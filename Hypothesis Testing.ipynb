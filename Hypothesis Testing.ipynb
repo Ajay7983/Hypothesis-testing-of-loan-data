{
 "cells": [
  {
   "cell_type": "code",
   "execution_count": 1,
   "id": "912e141b",
   "metadata": {},
   "outputs": [],
   "source": [
    "import numpy as np\n",
    "import pandas as pd\n",
    "import scipy.stats as stats\n",
    "import seaborn as sns\n",
    "import matplotlib.pyplot as plt\n",
    "\n",
    "%matplotlib inline"
   ]
  },
  {
   "cell_type": "markdown",
   "id": "9a67218b",
   "metadata": {},
   "source": [
    "# Business Problem - 1"
   ]
  },
  {
   "cell_type": "markdown",
   "id": "d21bf492",
   "metadata": {},
   "source": [
    "# Importing the data file"
   ]
  },
  {
   "cell_type": "code",
   "execution_count": 2,
   "id": "72617cb9",
   "metadata": {},
   "outputs": [],
   "source": [
    "loan=pd.read_csv('C:/Users/Ajay/Downloads/Python Case Studies/4. Basic Statistics - Hypothesis Testing/LoansData.csv')"
   ]
  },
  {
   "cell_type": "code",
   "execution_count": 3,
   "id": "71138aa8",
   "metadata": {},
   "outputs": [
    {
     "data": {
      "text/html": [
       "<div>\n",
       "<style scoped>\n",
       "    .dataframe tbody tr th:only-of-type {\n",
       "        vertical-align: middle;\n",
       "    }\n",
       "\n",
       "    .dataframe tbody tr th {\n",
       "        vertical-align: top;\n",
       "    }\n",
       "\n",
       "    .dataframe thead th {\n",
       "        text-align: right;\n",
       "    }\n",
       "</style>\n",
       "<table border=\"1\" class=\"dataframe\">\n",
       "  <thead>\n",
       "    <tr style=\"text-align: right;\">\n",
       "      <th></th>\n",
       "      <th>Amount.Requested</th>\n",
       "      <th>Amount.Funded.By.Investors</th>\n",
       "      <th>Interest.Rate</th>\n",
       "      <th>Loan.Length</th>\n",
       "      <th>Loan.Purpose</th>\n",
       "      <th>Debt.To.Income.Ratio</th>\n",
       "      <th>State</th>\n",
       "      <th>Home.Ownership</th>\n",
       "      <th>Monthly.Income</th>\n",
       "      <th>FICO.Range</th>\n",
       "      <th>Open.CREDIT.Lines</th>\n",
       "      <th>Revolving.CREDIT.Balance</th>\n",
       "      <th>Inquiries.in.the.Last.6.Months</th>\n",
       "      <th>Employment.Length</th>\n",
       "    </tr>\n",
       "  </thead>\n",
       "  <tbody>\n",
       "    <tr>\n",
       "      <th>0</th>\n",
       "      <td>20000.0</td>\n",
       "      <td>20000.0</td>\n",
       "      <td>8.90%</td>\n",
       "      <td>36 months</td>\n",
       "      <td>debt_consolidation</td>\n",
       "      <td>14.90%</td>\n",
       "      <td>SC</td>\n",
       "      <td>MORTGAGE</td>\n",
       "      <td>6541.67</td>\n",
       "      <td>735-739</td>\n",
       "      <td>14.0</td>\n",
       "      <td>14272.0</td>\n",
       "      <td>2.0</td>\n",
       "      <td>&lt; 1 year</td>\n",
       "    </tr>\n",
       "    <tr>\n",
       "      <th>1</th>\n",
       "      <td>19200.0</td>\n",
       "      <td>19200.0</td>\n",
       "      <td>12.12%</td>\n",
       "      <td>36 months</td>\n",
       "      <td>debt_consolidation</td>\n",
       "      <td>28.36%</td>\n",
       "      <td>TX</td>\n",
       "      <td>MORTGAGE</td>\n",
       "      <td>4583.33</td>\n",
       "      <td>715-719</td>\n",
       "      <td>12.0</td>\n",
       "      <td>11140.0</td>\n",
       "      <td>1.0</td>\n",
       "      <td>2 years</td>\n",
       "    </tr>\n",
       "    <tr>\n",
       "      <th>2</th>\n",
       "      <td>35000.0</td>\n",
       "      <td>35000.0</td>\n",
       "      <td>21.98%</td>\n",
       "      <td>60 months</td>\n",
       "      <td>debt_consolidation</td>\n",
       "      <td>23.81%</td>\n",
       "      <td>CA</td>\n",
       "      <td>MORTGAGE</td>\n",
       "      <td>11500.00</td>\n",
       "      <td>690-694</td>\n",
       "      <td>14.0</td>\n",
       "      <td>21977.0</td>\n",
       "      <td>1.0</td>\n",
       "      <td>2 years</td>\n",
       "    </tr>\n",
       "    <tr>\n",
       "      <th>3</th>\n",
       "      <td>10000.0</td>\n",
       "      <td>9975.0</td>\n",
       "      <td>9.99%</td>\n",
       "      <td>36 months</td>\n",
       "      <td>debt_consolidation</td>\n",
       "      <td>14.30%</td>\n",
       "      <td>KS</td>\n",
       "      <td>MORTGAGE</td>\n",
       "      <td>3833.33</td>\n",
       "      <td>695-699</td>\n",
       "      <td>10.0</td>\n",
       "      <td>9346.0</td>\n",
       "      <td>0.0</td>\n",
       "      <td>5 years</td>\n",
       "    </tr>\n",
       "    <tr>\n",
       "      <th>4</th>\n",
       "      <td>12000.0</td>\n",
       "      <td>12000.0</td>\n",
       "      <td>11.71%</td>\n",
       "      <td>36 months</td>\n",
       "      <td>credit_card</td>\n",
       "      <td>18.78%</td>\n",
       "      <td>NJ</td>\n",
       "      <td>RENT</td>\n",
       "      <td>3195.00</td>\n",
       "      <td>695-699</td>\n",
       "      <td>11.0</td>\n",
       "      <td>14469.0</td>\n",
       "      <td>0.0</td>\n",
       "      <td>9 years</td>\n",
       "    </tr>\n",
       "  </tbody>\n",
       "</table>\n",
       "</div>"
      ],
      "text/plain": [
       "   Amount.Requested  Amount.Funded.By.Investors Interest.Rate Loan.Length  \\\n",
       "0           20000.0                     20000.0         8.90%   36 months   \n",
       "1           19200.0                     19200.0        12.12%   36 months   \n",
       "2           35000.0                     35000.0        21.98%   60 months   \n",
       "3           10000.0                      9975.0         9.99%   36 months   \n",
       "4           12000.0                     12000.0        11.71%   36 months   \n",
       "\n",
       "         Loan.Purpose Debt.To.Income.Ratio State Home.Ownership  \\\n",
       "0  debt_consolidation               14.90%    SC       MORTGAGE   \n",
       "1  debt_consolidation               28.36%    TX       MORTGAGE   \n",
       "2  debt_consolidation               23.81%    CA       MORTGAGE   \n",
       "3  debt_consolidation               14.30%    KS       MORTGAGE   \n",
       "4         credit_card               18.78%    NJ           RENT   \n",
       "\n",
       "   Monthly.Income FICO.Range  Open.CREDIT.Lines  Revolving.CREDIT.Balance  \\\n",
       "0         6541.67    735-739               14.0                   14272.0   \n",
       "1         4583.33    715-719               12.0                   11140.0   \n",
       "2        11500.00    690-694               14.0                   21977.0   \n",
       "3         3833.33    695-699               10.0                    9346.0   \n",
       "4         3195.00    695-699               11.0                   14469.0   \n",
       "\n",
       "   Inquiries.in.the.Last.6.Months Employment.Length  \n",
       "0                             2.0          < 1 year  \n",
       "1                             1.0           2 years  \n",
       "2                             1.0           2 years  \n",
       "3                             0.0           5 years  \n",
       "4                             0.0           9 years  "
      ]
     },
     "execution_count": 3,
     "metadata": {},
     "output_type": "execute_result"
    }
   ],
   "source": [
    "loan.head()"
   ]
  },
  {
   "cell_type": "markdown",
   "id": "28af8b53",
   "metadata": {},
   "source": [
    "# Data Cleaning"
   ]
  },
  {
   "cell_type": "code",
   "execution_count": 4,
   "id": "2148012e",
   "metadata": {},
   "outputs": [
    {
     "name": "stdout",
     "output_type": "stream",
     "text": [
      "<class 'pandas.core.frame.DataFrame'>\n",
      "RangeIndex: 2500 entries, 0 to 2499\n",
      "Data columns (total 14 columns):\n",
      " #   Column                          Non-Null Count  Dtype  \n",
      "---  ------                          --------------  -----  \n",
      " 0   Amount.Requested                2499 non-null   float64\n",
      " 1   Amount.Funded.By.Investors      2499 non-null   float64\n",
      " 2   Interest.Rate                   2498 non-null   object \n",
      " 3   Loan.Length                     2500 non-null   object \n",
      " 4   Loan.Purpose                    2500 non-null   object \n",
      " 5   Debt.To.Income.Ratio            2499 non-null   object \n",
      " 6   State                           2500 non-null   object \n",
      " 7   Home.Ownership                  2499 non-null   object \n",
      " 8   Monthly.Income                  2499 non-null   float64\n",
      " 9   FICO.Range                      2498 non-null   object \n",
      " 10  Open.CREDIT.Lines               2497 non-null   float64\n",
      " 11  Revolving.CREDIT.Balance        2497 non-null   float64\n",
      " 12  Inquiries.in.the.Last.6.Months  2497 non-null   float64\n",
      " 13  Employment.Length               2423 non-null   object \n",
      "dtypes: float64(6), object(8)\n",
      "memory usage: 273.6+ KB\n"
     ]
    }
   ],
   "source": [
    "loan.info()"
   ]
  },
  {
   "cell_type": "code",
   "execution_count": 5,
   "id": "27eb8a1c",
   "metadata": {},
   "outputs": [
    {
     "data": {
      "text/plain": [
       "Amount.Requested                   1\n",
       "Amount.Funded.By.Investors         1\n",
       "Interest.Rate                      2\n",
       "Loan.Length                        0\n",
       "Loan.Purpose                       0\n",
       "Debt.To.Income.Ratio               1\n",
       "State                              0\n",
       "Home.Ownership                     1\n",
       "Monthly.Income                     1\n",
       "FICO.Range                         2\n",
       "Open.CREDIT.Lines                  3\n",
       "Revolving.CREDIT.Balance           3\n",
       "Inquiries.in.the.Last.6.Months     3\n",
       "Employment.Length                 77\n",
       "dtype: int64"
      ]
     },
     "execution_count": 5,
     "metadata": {},
     "output_type": "execute_result"
    }
   ],
   "source": [
    "loan.isna().sum()"
   ]
  },
  {
   "cell_type": "code",
   "execution_count": 6,
   "id": "f1ed3e63",
   "metadata": {},
   "outputs": [],
   "source": [
    "# Changing the data types of interest rat column to float and removing % sign\n",
    "loan['Interest.Rate']=loan['Interest.Rate'].str.replace('%','')\n",
    "\n",
    "loan['Interest.Rate']=pd.to_numeric(loan['Interest.Rate'])"
   ]
  },
  {
   "cell_type": "code",
   "execution_count": 7,
   "id": "f4155371",
   "metadata": {},
   "outputs": [
    {
     "data": {
      "text/plain": [
       "2"
      ]
     },
     "execution_count": 7,
     "metadata": {},
     "output_type": "execute_result"
    }
   ],
   "source": [
    "loan['Interest.Rate'].isna().sum()"
   ]
  },
  {
   "cell_type": "code",
   "execution_count": 8,
   "id": "3b539640",
   "metadata": {},
   "outputs": [],
   "source": [
    "# replacing the null values with mean interest rate\n",
    "loan['Interest.Rate'].fillna(loan['Interest.Rate'].mean(), inplace=True)"
   ]
  },
  {
   "cell_type": "code",
   "execution_count": 9,
   "id": "0face622",
   "metadata": {},
   "outputs": [
    {
     "data": {
      "text/plain": [
       "0"
      ]
     },
     "execution_count": 9,
     "metadata": {},
     "output_type": "execute_result"
    }
   ],
   "source": [
    "loan['Interest.Rate'].isna().sum()"
   ]
  },
  {
   "cell_type": "code",
   "execution_count": 10,
   "id": "45e68635",
   "metadata": {},
   "outputs": [],
   "source": [
    "# filling the null values in loan amount requested with mean loan amount\n",
    "\n",
    "loan['Amount.Requested'].fillna(loan['Amount.Requested'].mean(), inplace=True)"
   ]
  },
  {
   "cell_type": "markdown",
   "id": "81d6f93a",
   "metadata": {},
   "source": [
    "# a. Intrest rate is varied for different loan amounts (Less interest charged for high loan amounts)"
   ]
  },
  {
   "cell_type": "code",
   "execution_count": 11,
   "id": "c757efe5",
   "metadata": {},
   "outputs": [],
   "source": [
    "# Defining the hypothesis\n",
    "# Ho:- Interest rate does not vary with different loan amounts\n",
    "# Ha:- Interest rate varies with different loan amounts\n",
    "\n",
    "# Confidence Level: 95%\n",
    "# significance: 5%\n",
    "\n",
    "# Method to use: pearson correlation coefficient"
   ]
  },
  {
   "cell_type": "code",
   "execution_count": 12,
   "id": "1ca620b9",
   "metadata": {},
   "outputs": [
    {
     "data": {
      "text/plain": [
       "PearsonRResult(statistic=0.33244640596656916, pvalue=1.4148683739770683e-65)"
      ]
     },
     "execution_count": 12,
     "metadata": {},
     "output_type": "execute_result"
    }
   ],
   "source": [
    "stats.pearsonr(loan['Interest.Rate'], loan['Amount.Requested'])"
   ]
  },
  {
   "cell_type": "code",
   "execution_count": 13,
   "id": "be09fac3",
   "metadata": {},
   "outputs": [],
   "source": [
    "# since the p-value is very low, we reject the null hypothesis.\n",
    "# which show that interest rate varies for different loan amounts.\n",
    "# Less interest charged for high loan amount."
   ]
  },
  {
   "cell_type": "markdown",
   "id": "e9006b42",
   "metadata": {},
   "source": [
    "# b. Loan length is directly effecting intrest rate."
   ]
  },
  {
   "cell_type": "code",
   "execution_count": 14,
   "id": "2e97e3f0",
   "metadata": {},
   "outputs": [
    {
     "data": {
      "text/plain": [
       "array(['36 months', '60 months'], dtype=object)"
      ]
     },
     "execution_count": 14,
     "metadata": {},
     "output_type": "execute_result"
    }
   ],
   "source": [
    "loan['Loan.Length'].unique()"
   ]
  },
  {
   "cell_type": "code",
   "execution_count": 15,
   "id": "97a09df9",
   "metadata": {},
   "outputs": [],
   "source": [
    "# Seperating the interest rate based on the two type of loan length\n",
    "month36=loan.loc[loan['Loan.Length']=='36 months', 'Interest.Rate']\n",
    "month60=loan.loc[loan['Loan.Length']=='60 months', 'Interest.Rate']"
   ]
  },
  {
   "cell_type": "code",
   "execution_count": 16,
   "id": "0b59df7d",
   "metadata": {},
   "outputs": [],
   "source": [
    "# defining the null and alternative hypothesis\n",
    "# Ho:- Loan length does not affect the interest rate.\n",
    "# Ha:- Loan lebgth affects the interest rate.\n",
    "\n",
    "# confidence level: 95%\n",
    "\n",
    "# significance: 5%\n",
    "\n",
    "# Method used: t-test (individual sample)"
   ]
  },
  {
   "cell_type": "code",
   "execution_count": 17,
   "id": "e3b4e42d",
   "metadata": {},
   "outputs": [
    {
     "data": {
      "text/plain": [
       "TtestResult(statistic=-23.41049023613487, pvalue=9.549596064332559e-110, df=2498.0)"
      ]
     },
     "execution_count": 17,
     "metadata": {},
     "output_type": "execute_result"
    }
   ],
   "source": [
    "stats.ttest_ind(month36,month60)"
   ]
  },
  {
   "cell_type": "code",
   "execution_count": 18,
   "id": "798b1fcf",
   "metadata": {},
   "outputs": [],
   "source": [
    "# Since p- value is outside the confidence region, we reject the null hyothesis.\n",
    "# which implies that Loan length is directly affecting the interest rate."
   ]
  },
  {
   "cell_type": "markdown",
   "id": "4094c956",
   "metadata": {},
   "source": [
    "# c. Interest rate varies for different purpose of loans"
   ]
  },
  {
   "cell_type": "code",
   "execution_count": 19,
   "id": "4e418033",
   "metadata": {},
   "outputs": [
    {
     "data": {
      "text/plain": [
       "array(['debt_consolidation', 'credit_card', 'other', 'moving', 'car',\n",
       "       'vacation', 'home_improvement', 'house', 'major_purchase',\n",
       "       'educational', 'medical', 'wedding', 'small_business',\n",
       "       'renewable_energy'], dtype=object)"
      ]
     },
     "execution_count": 19,
     "metadata": {},
     "output_type": "execute_result"
    }
   ],
   "source": [
    "loan['Loan.Purpose'].unique()"
   ]
  },
  {
   "cell_type": "code",
   "execution_count": 20,
   "id": "304b4f8b",
   "metadata": {},
   "outputs": [],
   "source": [
    "# Define the hypothesis conditions\n",
    "# Ho:- Interest rate does not vary for different purpose of loans\n",
    "# Ha:- Interest rate varies for different purpose of loans.\n",
    "\n",
    "# confidence level: 95%\n",
    "\n",
    "# significance: 5%"
   ]
  },
  {
   "cell_type": "code",
   "execution_count": 21,
   "id": "cdb21c4f",
   "metadata": {},
   "outputs": [
    {
     "data": {
      "text/plain": [
       "SignificanceResult(statistic=-0.06035663579266386, pvalue=0.0025354766301471797)"
      ]
     },
     "execution_count": 21,
     "metadata": {},
     "output_type": "execute_result"
    }
   ],
   "source": [
    "# we will use spearman rank method as we need to find relationship between continuous and categorical variables\n",
    "stats.spearmanr(loan['Interest.Rate'], loan['Loan.Purpose'])"
   ]
  },
  {
   "cell_type": "code",
   "execution_count": 22,
   "id": "db67b2b9",
   "metadata": {},
   "outputs": [],
   "source": [
    "# since p-value is outside the confidence region, we reject the null hypothesis.\n",
    "# Interest rate varies for different purpose of loans"
   ]
  },
  {
   "cell_type": "markdown",
   "id": "f326d6ea",
   "metadata": {},
   "source": [
    "# d. There is relationship between FICO scores and Home Ownership. It means that, People with owning home will have high FICO scores."
   ]
  },
  {
   "cell_type": "code",
   "execution_count": 23,
   "id": "6f60f1c2",
   "metadata": {},
   "outputs": [
    {
     "name": "stdout",
     "output_type": "stream",
     "text": [
      "<class 'pandas.core.frame.DataFrame'>\n",
      "RangeIndex: 2500 entries, 0 to 2499\n",
      "Data columns (total 14 columns):\n",
      " #   Column                          Non-Null Count  Dtype  \n",
      "---  ------                          --------------  -----  \n",
      " 0   Amount.Requested                2500 non-null   float64\n",
      " 1   Amount.Funded.By.Investors      2499 non-null   float64\n",
      " 2   Interest.Rate                   2500 non-null   float64\n",
      " 3   Loan.Length                     2500 non-null   object \n",
      " 4   Loan.Purpose                    2500 non-null   object \n",
      " 5   Debt.To.Income.Ratio            2499 non-null   object \n",
      " 6   State                           2500 non-null   object \n",
      " 7   Home.Ownership                  2499 non-null   object \n",
      " 8   Monthly.Income                  2499 non-null   float64\n",
      " 9   FICO.Range                      2498 non-null   object \n",
      " 10  Open.CREDIT.Lines               2497 non-null   float64\n",
      " 11  Revolving.CREDIT.Balance        2497 non-null   float64\n",
      " 12  Inquiries.in.the.Last.6.Months  2497 non-null   float64\n",
      " 13  Employment.Length               2423 non-null   object \n",
      "dtypes: float64(7), object(7)\n",
      "memory usage: 273.6+ KB\n"
     ]
    }
   ],
   "source": [
    "loan.info()"
   ]
  },
  {
   "cell_type": "code",
   "execution_count": 24,
   "id": "77822c38",
   "metadata": {},
   "outputs": [
    {
     "data": {
      "text/html": [
       "<div>\n",
       "<style scoped>\n",
       "    .dataframe tbody tr th:only-of-type {\n",
       "        vertical-align: middle;\n",
       "    }\n",
       "\n",
       "    .dataframe tbody tr th {\n",
       "        vertical-align: top;\n",
       "    }\n",
       "\n",
       "    .dataframe thead th {\n",
       "        text-align: right;\n",
       "    }\n",
       "</style>\n",
       "<table border=\"1\" class=\"dataframe\">\n",
       "  <thead>\n",
       "    <tr style=\"text-align: right;\">\n",
       "      <th></th>\n",
       "      <th>Amount.Requested</th>\n",
       "      <th>Amount.Funded.By.Investors</th>\n",
       "      <th>Interest.Rate</th>\n",
       "      <th>Loan.Length</th>\n",
       "      <th>Loan.Purpose</th>\n",
       "      <th>Debt.To.Income.Ratio</th>\n",
       "      <th>State</th>\n",
       "      <th>Home.Ownership</th>\n",
       "      <th>Monthly.Income</th>\n",
       "      <th>FICO.Range</th>\n",
       "      <th>Open.CREDIT.Lines</th>\n",
       "      <th>Revolving.CREDIT.Balance</th>\n",
       "      <th>Inquiries.in.the.Last.6.Months</th>\n",
       "      <th>Employment.Length</th>\n",
       "    </tr>\n",
       "  </thead>\n",
       "  <tbody>\n",
       "    <tr>\n",
       "      <th>0</th>\n",
       "      <td>20000.0</td>\n",
       "      <td>20000.0</td>\n",
       "      <td>8.90</td>\n",
       "      <td>36 months</td>\n",
       "      <td>debt_consolidation</td>\n",
       "      <td>14.90%</td>\n",
       "      <td>SC</td>\n",
       "      <td>MORTGAGE</td>\n",
       "      <td>6541.67</td>\n",
       "      <td>735-739</td>\n",
       "      <td>14.0</td>\n",
       "      <td>14272.0</td>\n",
       "      <td>2.0</td>\n",
       "      <td>&lt; 1 year</td>\n",
       "    </tr>\n",
       "    <tr>\n",
       "      <th>1</th>\n",
       "      <td>19200.0</td>\n",
       "      <td>19200.0</td>\n",
       "      <td>12.12</td>\n",
       "      <td>36 months</td>\n",
       "      <td>debt_consolidation</td>\n",
       "      <td>28.36%</td>\n",
       "      <td>TX</td>\n",
       "      <td>MORTGAGE</td>\n",
       "      <td>4583.33</td>\n",
       "      <td>715-719</td>\n",
       "      <td>12.0</td>\n",
       "      <td>11140.0</td>\n",
       "      <td>1.0</td>\n",
       "      <td>2 years</td>\n",
       "    </tr>\n",
       "    <tr>\n",
       "      <th>2</th>\n",
       "      <td>35000.0</td>\n",
       "      <td>35000.0</td>\n",
       "      <td>21.98</td>\n",
       "      <td>60 months</td>\n",
       "      <td>debt_consolidation</td>\n",
       "      <td>23.81%</td>\n",
       "      <td>CA</td>\n",
       "      <td>MORTGAGE</td>\n",
       "      <td>11500.00</td>\n",
       "      <td>690-694</td>\n",
       "      <td>14.0</td>\n",
       "      <td>21977.0</td>\n",
       "      <td>1.0</td>\n",
       "      <td>2 years</td>\n",
       "    </tr>\n",
       "    <tr>\n",
       "      <th>3</th>\n",
       "      <td>10000.0</td>\n",
       "      <td>9975.0</td>\n",
       "      <td>9.99</td>\n",
       "      <td>36 months</td>\n",
       "      <td>debt_consolidation</td>\n",
       "      <td>14.30%</td>\n",
       "      <td>KS</td>\n",
       "      <td>MORTGAGE</td>\n",
       "      <td>3833.33</td>\n",
       "      <td>695-699</td>\n",
       "      <td>10.0</td>\n",
       "      <td>9346.0</td>\n",
       "      <td>0.0</td>\n",
       "      <td>5 years</td>\n",
       "    </tr>\n",
       "    <tr>\n",
       "      <th>4</th>\n",
       "      <td>12000.0</td>\n",
       "      <td>12000.0</td>\n",
       "      <td>11.71</td>\n",
       "      <td>36 months</td>\n",
       "      <td>credit_card</td>\n",
       "      <td>18.78%</td>\n",
       "      <td>NJ</td>\n",
       "      <td>RENT</td>\n",
       "      <td>3195.00</td>\n",
       "      <td>695-699</td>\n",
       "      <td>11.0</td>\n",
       "      <td>14469.0</td>\n",
       "      <td>0.0</td>\n",
       "      <td>9 years</td>\n",
       "    </tr>\n",
       "  </tbody>\n",
       "</table>\n",
       "</div>"
      ],
      "text/plain": [
       "   Amount.Requested  Amount.Funded.By.Investors  Interest.Rate Loan.Length  \\\n",
       "0           20000.0                     20000.0           8.90   36 months   \n",
       "1           19200.0                     19200.0          12.12   36 months   \n",
       "2           35000.0                     35000.0          21.98   60 months   \n",
       "3           10000.0                      9975.0           9.99   36 months   \n",
       "4           12000.0                     12000.0          11.71   36 months   \n",
       "\n",
       "         Loan.Purpose Debt.To.Income.Ratio State Home.Ownership  \\\n",
       "0  debt_consolidation               14.90%    SC       MORTGAGE   \n",
       "1  debt_consolidation               28.36%    TX       MORTGAGE   \n",
       "2  debt_consolidation               23.81%    CA       MORTGAGE   \n",
       "3  debt_consolidation               14.30%    KS       MORTGAGE   \n",
       "4         credit_card               18.78%    NJ           RENT   \n",
       "\n",
       "   Monthly.Income FICO.Range  Open.CREDIT.Lines  Revolving.CREDIT.Balance  \\\n",
       "0         6541.67    735-739               14.0                   14272.0   \n",
       "1         4583.33    715-719               12.0                   11140.0   \n",
       "2        11500.00    690-694               14.0                   21977.0   \n",
       "3         3833.33    695-699               10.0                    9346.0   \n",
       "4         3195.00    695-699               11.0                   14469.0   \n",
       "\n",
       "   Inquiries.in.the.Last.6.Months Employment.Length  \n",
       "0                             2.0          < 1 year  \n",
       "1                             1.0           2 years  \n",
       "2                             1.0           2 years  \n",
       "3                             0.0           5 years  \n",
       "4                             0.0           9 years  "
      ]
     },
     "execution_count": 24,
     "metadata": {},
     "output_type": "execute_result"
    }
   ],
   "source": [
    "loan.head()"
   ]
  },
  {
   "cell_type": "code",
   "execution_count": 25,
   "id": "a5348a18",
   "metadata": {},
   "outputs": [],
   "source": [
    "# since we need relationship between two categorical variables\n",
    "# we will use Chi Square test for the hypothesis"
   ]
  },
  {
   "cell_type": "code",
   "execution_count": 26,
   "id": "70af862e",
   "metadata": {},
   "outputs": [],
   "source": [
    "# Defining the hypothesis test conditions\n",
    "\n",
    "# Ho:- There is no relationship between Home Ownership and Fico Score\n",
    "# Ha:- There is relationship between Home Ownership and Fico Score.\n",
    "\n",
    "# Confidence Level: 95%\n",
    "\n",
    "# Significance Level: 5%"
   ]
  },
  {
   "cell_type": "code",
   "execution_count": 27,
   "id": "069d1a7c",
   "metadata": {},
   "outputs": [
    {
     "data": {
      "text/html": [
       "<div>\n",
       "<style scoped>\n",
       "    .dataframe tbody tr th:only-of-type {\n",
       "        vertical-align: middle;\n",
       "    }\n",
       "\n",
       "    .dataframe tbody tr th {\n",
       "        vertical-align: top;\n",
       "    }\n",
       "\n",
       "    .dataframe thead th {\n",
       "        text-align: right;\n",
       "    }\n",
       "</style>\n",
       "<table border=\"1\" class=\"dataframe\">\n",
       "  <thead>\n",
       "    <tr style=\"text-align: right;\">\n",
       "      <th>FICO.Range</th>\n",
       "      <th>640-644</th>\n",
       "      <th>645-649</th>\n",
       "      <th>650-654</th>\n",
       "      <th>655-659</th>\n",
       "      <th>660-664</th>\n",
       "      <th>665-669</th>\n",
       "      <th>670-674</th>\n",
       "      <th>675-679</th>\n",
       "      <th>680-684</th>\n",
       "      <th>685-689</th>\n",
       "      <th>...</th>\n",
       "      <th>780-784</th>\n",
       "      <th>785-789</th>\n",
       "      <th>790-794</th>\n",
       "      <th>795-799</th>\n",
       "      <th>800-804</th>\n",
       "      <th>805-809</th>\n",
       "      <th>810-814</th>\n",
       "      <th>815-819</th>\n",
       "      <th>820-824</th>\n",
       "      <th>830-834</th>\n",
       "    </tr>\n",
       "    <tr>\n",
       "      <th>Home.Ownership</th>\n",
       "      <th></th>\n",
       "      <th></th>\n",
       "      <th></th>\n",
       "      <th></th>\n",
       "      <th></th>\n",
       "      <th></th>\n",
       "      <th></th>\n",
       "      <th></th>\n",
       "      <th></th>\n",
       "      <th></th>\n",
       "      <th></th>\n",
       "      <th></th>\n",
       "      <th></th>\n",
       "      <th></th>\n",
       "      <th></th>\n",
       "      <th></th>\n",
       "      <th></th>\n",
       "      <th></th>\n",
       "      <th></th>\n",
       "      <th></th>\n",
       "      <th></th>\n",
       "    </tr>\n",
       "  </thead>\n",
       "  <tbody>\n",
       "    <tr>\n",
       "      <th>MORTGAGE</th>\n",
       "      <td>0</td>\n",
       "      <td>1</td>\n",
       "      <td>1</td>\n",
       "      <td>0</td>\n",
       "      <td>41</td>\n",
       "      <td>52</td>\n",
       "      <td>67</td>\n",
       "      <td>79</td>\n",
       "      <td>55</td>\n",
       "      <td>61</td>\n",
       "      <td>...</td>\n",
       "      <td>21</td>\n",
       "      <td>12</td>\n",
       "      <td>15</td>\n",
       "      <td>7</td>\n",
       "      <td>7</td>\n",
       "      <td>6</td>\n",
       "      <td>5</td>\n",
       "      <td>6</td>\n",
       "      <td>0</td>\n",
       "      <td>1</td>\n",
       "    </tr>\n",
       "    <tr>\n",
       "      <th>NONE</th>\n",
       "      <td>0</td>\n",
       "      <td>0</td>\n",
       "      <td>0</td>\n",
       "      <td>0</td>\n",
       "      <td>0</td>\n",
       "      <td>0</td>\n",
       "      <td>0</td>\n",
       "      <td>0</td>\n",
       "      <td>0</td>\n",
       "      <td>0</td>\n",
       "      <td>...</td>\n",
       "      <td>0</td>\n",
       "      <td>0</td>\n",
       "      <td>0</td>\n",
       "      <td>0</td>\n",
       "      <td>1</td>\n",
       "      <td>0</td>\n",
       "      <td>0</td>\n",
       "      <td>0</td>\n",
       "      <td>0</td>\n",
       "      <td>0</td>\n",
       "    </tr>\n",
       "    <tr>\n",
       "      <th>OTHER</th>\n",
       "      <td>0</td>\n",
       "      <td>0</td>\n",
       "      <td>0</td>\n",
       "      <td>1</td>\n",
       "      <td>0</td>\n",
       "      <td>0</td>\n",
       "      <td>1</td>\n",
       "      <td>1</td>\n",
       "      <td>2</td>\n",
       "      <td>0</td>\n",
       "      <td>...</td>\n",
       "      <td>0</td>\n",
       "      <td>0</td>\n",
       "      <td>0</td>\n",
       "      <td>0</td>\n",
       "      <td>0</td>\n",
       "      <td>0</td>\n",
       "      <td>0</td>\n",
       "      <td>0</td>\n",
       "      <td>0</td>\n",
       "      <td>0</td>\n",
       "    </tr>\n",
       "    <tr>\n",
       "      <th>OWN</th>\n",
       "      <td>1</td>\n",
       "      <td>0</td>\n",
       "      <td>0</td>\n",
       "      <td>0</td>\n",
       "      <td>17</td>\n",
       "      <td>18</td>\n",
       "      <td>13</td>\n",
       "      <td>11</td>\n",
       "      <td>9</td>\n",
       "      <td>10</td>\n",
       "      <td>...</td>\n",
       "      <td>3</td>\n",
       "      <td>2</td>\n",
       "      <td>1</td>\n",
       "      <td>1</td>\n",
       "      <td>3</td>\n",
       "      <td>2</td>\n",
       "      <td>1</td>\n",
       "      <td>0</td>\n",
       "      <td>1</td>\n",
       "      <td>0</td>\n",
       "    </tr>\n",
       "    <tr>\n",
       "      <th>RENT</th>\n",
       "      <td>4</td>\n",
       "      <td>2</td>\n",
       "      <td>0</td>\n",
       "      <td>3</td>\n",
       "      <td>67</td>\n",
       "      <td>75</td>\n",
       "      <td>90</td>\n",
       "      <td>75</td>\n",
       "      <td>91</td>\n",
       "      <td>65</td>\n",
       "      <td>...</td>\n",
       "      <td>4</td>\n",
       "      <td>5</td>\n",
       "      <td>4</td>\n",
       "      <td>5</td>\n",
       "      <td>2</td>\n",
       "      <td>3</td>\n",
       "      <td>2</td>\n",
       "      <td>0</td>\n",
       "      <td>0</td>\n",
       "      <td>0</td>\n",
       "    </tr>\n",
       "  </tbody>\n",
       "</table>\n",
       "<p>5 rows × 38 columns</p>\n",
       "</div>"
      ],
      "text/plain": [
       "FICO.Range      640-644  645-649  650-654  655-659  660-664  665-669  670-674  \\\n",
       "Home.Ownership                                                                  \n",
       "MORTGAGE              0        1        1        0       41       52       67   \n",
       "NONE                  0        0        0        0        0        0        0   \n",
       "OTHER                 0        0        0        1        0        0        1   \n",
       "OWN                   1        0        0        0       17       18       13   \n",
       "RENT                  4        2        0        3       67       75       90   \n",
       "\n",
       "FICO.Range      675-679  680-684  685-689  ...  780-784  785-789  790-794  \\\n",
       "Home.Ownership                             ...                              \n",
       "MORTGAGE             79       55       61  ...       21       12       15   \n",
       "NONE                  0        0        0  ...        0        0        0   \n",
       "OTHER                 1        2        0  ...        0        0        0   \n",
       "OWN                  11        9       10  ...        3        2        1   \n",
       "RENT                 75       91       65  ...        4        5        4   \n",
       "\n",
       "FICO.Range      795-799  800-804  805-809  810-814  815-819  820-824  830-834  \n",
       "Home.Ownership                                                                 \n",
       "MORTGAGE              7        7        6        5        6        0        1  \n",
       "NONE                  0        1        0        0        0        0        0  \n",
       "OTHER                 0        0        0        0        0        0        0  \n",
       "OWN                   1        3        2        1        0        1        0  \n",
       "RENT                  5        2        3        2        0        0        0  \n",
       "\n",
       "[5 rows x 38 columns]"
      ]
     },
     "execution_count": 27,
     "metadata": {},
     "output_type": "execute_result"
    }
   ],
   "source": [
    "observed=pd.crosstab(loan['Home.Ownership'], loan['FICO.Range'])\n",
    "observed"
   ]
  },
  {
   "cell_type": "code",
   "execution_count": 28,
   "id": "8562722f",
   "metadata": {},
   "outputs": [
    {
     "data": {
      "text/plain": [
       "Chi2ContingencyResult(statistic=473.0524636834602, pvalue=1.202159201024428e-35, dof=148, expected_freq=array([[2.29475370e+00, 1.37685222e+00, 4.58950741e-01, 1.83580296e+00,\n",
       "        5.73688426e+01, 6.65478574e+01, 7.84805767e+01, 7.61858230e+01,\n",
       "        7.20552663e+01, 6.24173008e+01, 6.42531037e+01, 7.02194634e+01,\n",
       "        6.01225471e+01, 6.14993993e+01, 5.09435322e+01, 4.26824189e+01,\n",
       "        5.23203845e+01, 4.31413696e+01, 4.31413696e+01, 2.98317982e+01,\n",
       "        2.43243893e+01, 2.47833400e+01, 2.79959952e+01, 2.11117341e+01,\n",
       "        2.11117341e+01, 1.65222267e+01, 7.80216260e+00, 1.00969163e+01,\n",
       "        1.28506207e+01, 8.72006408e+00, 9.17901482e+00, 5.96635963e+00,\n",
       "        5.96635963e+00, 5.04845815e+00, 3.67160593e+00, 2.75370445e+00,\n",
       "        4.58950741e-01, 4.58950741e-01],\n",
       "       [2.00240288e-03, 1.20144173e-03, 4.00480577e-04, 1.60192231e-03,\n",
       "        5.00600721e-02, 5.80696836e-02, 6.84821786e-02, 6.64797757e-02,\n",
       "        6.28754505e-02, 5.44653584e-02, 5.60672807e-02, 6.12735282e-02,\n",
       "        5.24629555e-02, 5.36643973e-02, 4.44533440e-02, 3.72446936e-02,\n",
       "        4.56547857e-02, 3.76451742e-02, 3.76451742e-02, 2.60312375e-02,\n",
       "        2.12254706e-02, 2.16259511e-02, 2.44293152e-02, 1.84221065e-02,\n",
       "        1.84221065e-02, 1.44173008e-02, 6.80816980e-03, 8.81057269e-03,\n",
       "        1.12134561e-02, 7.60913096e-03, 8.00961153e-03, 5.20624750e-03,\n",
       "        5.20624750e-03, 4.40528634e-03, 3.20384461e-03, 2.40288346e-03,\n",
       "        4.00480577e-04, 4.00480577e-04],\n",
       "       [1.00120144e-02, 6.00720865e-03, 2.00240288e-03, 8.00961153e-03,\n",
       "        2.50300360e-01, 2.90348418e-01, 3.42410893e-01, 3.32398879e-01,\n",
       "        3.14377253e-01, 2.72326792e-01, 2.80336404e-01, 3.06367641e-01,\n",
       "        2.62314778e-01, 2.68321986e-01, 2.22266720e-01, 1.86223468e-01,\n",
       "        2.28273929e-01, 1.88225871e-01, 1.88225871e-01, 1.30156187e-01,\n",
       "        1.06127353e-01, 1.08129756e-01, 1.22146576e-01, 9.21105326e-02,\n",
       "        9.21105326e-02, 7.20865038e-02, 3.40408490e-02, 4.40528634e-02,\n",
       "        5.60672807e-02, 3.80456548e-02, 4.00480577e-02, 2.60312375e-02,\n",
       "        2.60312375e-02, 2.20264317e-02, 1.60192231e-02, 1.20144173e-02,\n",
       "        2.00240288e-03, 2.00240288e-03],\n",
       "       [4.00480577e-01, 2.40288346e-01, 8.00961153e-02, 3.20384461e-01,\n",
       "        1.00120144e+01, 1.16139367e+01, 1.36964357e+01, 1.32959551e+01,\n",
       "        1.25750901e+01, 1.08930717e+01, 1.12134561e+01, 1.22547056e+01,\n",
       "        1.04925911e+01, 1.07328795e+01, 8.89066880e+00, 7.44893873e+00,\n",
       "        9.13095715e+00, 7.52903484e+00, 7.52903484e+00, 5.20624750e+00,\n",
       "        4.24509411e+00, 4.32519023e+00, 4.88586304e+00, 3.68442131e+00,\n",
       "        3.68442131e+00, 2.88346015e+00, 1.36163396e+00, 1.76211454e+00,\n",
       "        2.24269123e+00, 1.52182619e+00, 1.60192231e+00, 1.04124950e+00,\n",
       "        1.04124950e+00, 8.81057269e-01, 6.40768923e-01, 4.80576692e-01,\n",
       "        8.00961153e-02, 8.00961153e-02],\n",
       "       [2.29275130e+00, 1.37565078e+00, 4.58550260e-01, 1.83420104e+00,\n",
       "        5.73187825e+01, 6.64897877e+01, 7.84120945e+01, 7.61193432e+01,\n",
       "        7.19923909e+01, 6.23628354e+01, 6.41970364e+01, 7.01581898e+01,\n",
       "        6.00700841e+01, 6.14457349e+01, 5.08990789e+01, 4.26451742e+01,\n",
       "        5.22747297e+01, 4.31037245e+01, 4.31037245e+01, 2.98057669e+01,\n",
       "        2.43031638e+01, 2.47617141e+01, 2.79715659e+01, 2.10933120e+01,\n",
       "        2.10933120e+01, 1.65078094e+01, 7.79535443e+00, 1.00881057e+01,\n",
       "        1.28394073e+01, 8.71245495e+00, 9.17100521e+00, 5.96115338e+00,\n",
       "        5.96115338e+00, 5.04405286e+00, 3.66840208e+00, 2.75130156e+00,\n",
       "        4.58550260e-01, 4.58550260e-01]]))"
      ]
     },
     "execution_count": 28,
     "metadata": {},
     "output_type": "execute_result"
    }
   ],
   "source": [
    "stats.chi2_contingency(observed)"
   ]
  },
  {
   "cell_type": "code",
   "execution_count": 29,
   "id": "b5ab159a",
   "metadata": {},
   "outputs": [],
   "source": [
    "# Since p-value is outside the confidence region, we reject null hypothesis.\n",
    "# There is a relationship between Home Ownership and FICO Score."
   ]
  },
  {
   "cell_type": "markdown",
   "id": "0a034981",
   "metadata": {},
   "source": [
    "# Business Problem - 2"
   ]
  },
  {
   "cell_type": "code",
   "execution_count": 30,
   "id": "3600cba4",
   "metadata": {},
   "outputs": [],
   "source": [
    "# Importing the data file\n",
    "price=pd.read_csv('C:/Users/Ajay/Downloads/Python Case Studies/4. Basic Statistics - Hypothesis Testing/Price_Quotes.csv')"
   ]
  },
  {
   "cell_type": "code",
   "execution_count": 31,
   "id": "0e657b31",
   "metadata": {},
   "outputs": [
    {
     "data": {
      "text/html": [
       "<div>\n",
       "<style scoped>\n",
       "    .dataframe tbody tr th:only-of-type {\n",
       "        vertical-align: middle;\n",
       "    }\n",
       "\n",
       "    .dataframe tbody tr th {\n",
       "        vertical-align: top;\n",
       "    }\n",
       "\n",
       "    .dataframe thead th {\n",
       "        text-align: right;\n",
       "    }\n",
       "</style>\n",
       "<table border=\"1\" class=\"dataframe\">\n",
       "  <thead>\n",
       "    <tr style=\"text-align: right;\">\n",
       "      <th></th>\n",
       "      <th>Order_Number</th>\n",
       "      <th>Barry_Price</th>\n",
       "      <th>Mary_Price</th>\n",
       "    </tr>\n",
       "  </thead>\n",
       "  <tbody>\n",
       "    <tr>\n",
       "      <th>0</th>\n",
       "      <td>1</td>\n",
       "      <td>126</td>\n",
       "      <td>114</td>\n",
       "    </tr>\n",
       "    <tr>\n",
       "      <th>1</th>\n",
       "      <td>2</td>\n",
       "      <td>110</td>\n",
       "      <td>118</td>\n",
       "    </tr>\n",
       "    <tr>\n",
       "      <th>2</th>\n",
       "      <td>3</td>\n",
       "      <td>138</td>\n",
       "      <td>114</td>\n",
       "    </tr>\n",
       "    <tr>\n",
       "      <th>3</th>\n",
       "      <td>4</td>\n",
       "      <td>142</td>\n",
       "      <td>111</td>\n",
       "    </tr>\n",
       "    <tr>\n",
       "      <th>4</th>\n",
       "      <td>5</td>\n",
       "      <td>146</td>\n",
       "      <td>129</td>\n",
       "    </tr>\n",
       "  </tbody>\n",
       "</table>\n",
       "</div>"
      ],
      "text/plain": [
       "   Order_Number  Barry_Price  Mary_Price\n",
       "0             1          126         114\n",
       "1             2          110         118\n",
       "2             3          138         114\n",
       "3             4          142         111\n",
       "4             5          146         129"
      ]
     },
     "execution_count": 31,
     "metadata": {},
     "output_type": "execute_result"
    }
   ],
   "source": [
    "price.head()"
   ]
  },
  {
   "cell_type": "markdown",
   "id": "fdd80465",
   "metadata": {},
   "source": [
    "# If there is any any difference in the average price quotes provided by Mary and Barry?"
   ]
  },
  {
   "cell_type": "code",
   "execution_count": 32,
   "id": "cae06a5f",
   "metadata": {},
   "outputs": [
    {
     "data": {
      "text/plain": [
       "Order_Number    0\n",
       "Barry_Price     0\n",
       "Mary_Price      0\n",
       "dtype: int64"
      ]
     },
     "execution_count": 32,
     "metadata": {},
     "output_type": "execute_result"
    }
   ],
   "source": [
    "price.isna().sum()"
   ]
  },
  {
   "cell_type": "code",
   "execution_count": 33,
   "id": "b765b0b9",
   "metadata": {},
   "outputs": [],
   "source": [
    "# defining the hypothesis conditions\n",
    "# Ho:- There is no difference in price quotes provided by Barry and Mary\n",
    "# Ha:- There is difference in price quotes provided by Barry and Mary\n",
    "\n",
    "# confidence level: 95%\n",
    "\n",
    "# Significance: 5%\n",
    "\n",
    "# Method to use: T-test_rel for related sample and size -12"
   ]
  },
  {
   "cell_type": "code",
   "execution_count": 34,
   "id": "f9cab19a",
   "metadata": {},
   "outputs": [
    {
     "data": {
      "text/plain": [
       "TtestResult(statistic=-2.5213765108923494, pvalue=0.02840588045242053, df=11)"
      ]
     },
     "execution_count": 34,
     "metadata": {},
     "output_type": "execute_result"
    }
   ],
   "source": [
    "stats.ttest_rel(price.Mary_Price, price.Barry_Price)"
   ]
  },
  {
   "cell_type": "code",
   "execution_count": 35,
   "id": "d97f5eca",
   "metadata": {},
   "outputs": [],
   "source": [
    "# Since p-value is outside the confidence region, we reject null hypothesis.\n",
    "# There is difference in price quotes provided by Barry and Mary"
   ]
  },
  {
   "cell_type": "markdown",
   "id": "a8aac90e",
   "metadata": {},
   "source": [
    "# Business Problem - 3"
   ]
  },
  {
   "cell_type": "code",
   "execution_count": 36,
   "id": "39f5044d",
   "metadata": {},
   "outputs": [],
   "source": [
    "# importing the data file\n",
    "treatment_facility=pd.read_csv('C:/Users/Ajay/Downloads/Python Case Studies/4. Basic Statistics - Hypothesis Testing/Treatment_Facility.csv')"
   ]
  },
  {
   "cell_type": "code",
   "execution_count": 37,
   "id": "b5ee3e74",
   "metadata": {},
   "outputs": [
    {
     "data": {
      "text/html": [
       "<div>\n",
       "<style scoped>\n",
       "    .dataframe tbody tr th:only-of-type {\n",
       "        vertical-align: middle;\n",
       "    }\n",
       "\n",
       "    .dataframe tbody tr th {\n",
       "        vertical-align: top;\n",
       "    }\n",
       "\n",
       "    .dataframe thead th {\n",
       "        text-align: right;\n",
       "    }\n",
       "</style>\n",
       "<table border=\"1\" class=\"dataframe\">\n",
       "  <thead>\n",
       "    <tr style=\"text-align: right;\">\n",
       "      <th></th>\n",
       "      <th>Month</th>\n",
       "      <th>Reengineer</th>\n",
       "      <th>Employee_Turnover</th>\n",
       "      <th>VAR4</th>\n",
       "      <th>VAR5</th>\n",
       "    </tr>\n",
       "  </thead>\n",
       "  <tbody>\n",
       "    <tr>\n",
       "      <th>0</th>\n",
       "      <td>1</td>\n",
       "      <td>Prior</td>\n",
       "      <td>0.0000</td>\n",
       "      <td>24.390244</td>\n",
       "      <td>42.682927</td>\n",
       "    </tr>\n",
       "    <tr>\n",
       "      <th>1</th>\n",
       "      <td>2</td>\n",
       "      <td>Prior</td>\n",
       "      <td>6.0606</td>\n",
       "      <td>19.354839</td>\n",
       "      <td>25.806452</td>\n",
       "    </tr>\n",
       "    <tr>\n",
       "      <th>2</th>\n",
       "      <td>3</td>\n",
       "      <td>Prior</td>\n",
       "      <td>12.1212</td>\n",
       "      <td>35.087719</td>\n",
       "      <td>146.198830</td>\n",
       "    </tr>\n",
       "    <tr>\n",
       "      <th>3</th>\n",
       "      <td>4</td>\n",
       "      <td>Prior</td>\n",
       "      <td>3.3333</td>\n",
       "      <td>18.404908</td>\n",
       "      <td>110.429448</td>\n",
       "    </tr>\n",
       "    <tr>\n",
       "      <th>4</th>\n",
       "      <td>5</td>\n",
       "      <td>Prior</td>\n",
       "      <td>12.9032</td>\n",
       "      <td>17.964072</td>\n",
       "      <td>23.952096</td>\n",
       "    </tr>\n",
       "  </tbody>\n",
       "</table>\n",
       "</div>"
      ],
      "text/plain": [
       "   Month Reengineer  Employee_Turnover       VAR4        VAR5\n",
       "0      1      Prior             0.0000  24.390244   42.682927\n",
       "1      2      Prior             6.0606  19.354839   25.806452\n",
       "2      3      Prior            12.1212  35.087719  146.198830\n",
       "3      4      Prior             3.3333  18.404908  110.429448\n",
       "4      5      Prior            12.9032  17.964072   23.952096"
      ]
     },
     "execution_count": 37,
     "metadata": {},
     "output_type": "execute_result"
    }
   ],
   "source": [
    "treatment_facility.head()"
   ]
  },
  {
   "cell_type": "code",
   "execution_count": 38,
   "id": "b416580b",
   "metadata": {},
   "outputs": [
    {
     "name": "stdout",
     "output_type": "stream",
     "text": [
      "<class 'pandas.core.frame.DataFrame'>\n",
      "RangeIndex: 20 entries, 0 to 19\n",
      "Data columns (total 5 columns):\n",
      " #   Column             Non-Null Count  Dtype  \n",
      "---  ------             --------------  -----  \n",
      " 0   Month              20 non-null     int64  \n",
      " 1   Reengineer         20 non-null     object \n",
      " 2   Employee_Turnover  20 non-null     float64\n",
      " 3   VAR4               20 non-null     float64\n",
      " 4   VAR5               20 non-null     float64\n",
      "dtypes: float64(3), int64(1), object(1)\n",
      "memory usage: 932.0+ bytes\n"
     ]
    }
   ],
   "source": [
    "treatment_facility.info()"
   ]
  },
  {
   "cell_type": "code",
   "execution_count": 39,
   "id": "dccb5cce",
   "metadata": {},
   "outputs": [],
   "source": [
    "treatment_facility.rename(columns={'VAR4': 'TRFF', 'VAR5':'CI'}, inplace=True)"
   ]
  },
  {
   "cell_type": "code",
   "execution_count": 40,
   "id": "d2247733",
   "metadata": {},
   "outputs": [
    {
     "data": {
      "text/plain": [
       "Month                0\n",
       "Reengineer           0\n",
       "Employee_Turnover    0\n",
       "TRFF                 0\n",
       "CI                   0\n",
       "dtype: int64"
      ]
     },
     "execution_count": 40,
     "metadata": {},
     "output_type": "execute_result"
    }
   ],
   "source": [
    "treatment_facility.isna().sum()"
   ]
  },
  {
   "cell_type": "markdown",
   "id": "de941704",
   "metadata": {},
   "source": [
    "# Determine what effect, if any, the reengineering effort had on the incidence behavioral problems and staff turnover. i.e To determine if the reengineering effort changed the critical incidence rate. Isthere evidence that the critical incidence rate improved?"
   ]
  },
  {
   "cell_type": "markdown",
   "id": "db20b257",
   "metadata": {},
   "source": [
    "# a. effect of reengineering on incidence behavioral problems"
   ]
  },
  {
   "cell_type": "code",
   "execution_count": 41,
   "id": "b1bc64fb",
   "metadata": {},
   "outputs": [],
   "source": [
    "prior=treatment_facility[treatment_facility.Reengineer=='Prior']['CI']\n",
    "post=treatment_facility[treatment_facility.Reengineer=='Post'] ['CI']\n"
   ]
  },
  {
   "cell_type": "code",
   "execution_count": 42,
   "id": "092153cb",
   "metadata": {},
   "outputs": [],
   "source": [
    "# define the hypothesis conditions\n",
    "# Ho:- There is no effect of reengineerig on incidence behavioral probelms\n",
    "# Ha:- There is effect of reengineering on incidence behavioral problems\n",
    "\n",
    "# Confidence: 95%\n",
    "\n",
    "# significance: 5%\n",
    "\n",
    "# method used: t-test "
   ]
  },
  {
   "cell_type": "code",
   "execution_count": 43,
   "id": "847b1150",
   "metadata": {},
   "outputs": [
    {
     "data": {
      "text/plain": [
       "TtestResult(statistic=1.627914425352865, pvalue=0.12091989189884148, df=18.0)"
      ]
     },
     "execution_count": 43,
     "metadata": {},
     "output_type": "execute_result"
    }
   ],
   "source": [
    "stats.ttest_ind(prior, post)"
   ]
  },
  {
   "cell_type": "code",
   "execution_count": 44,
   "id": "a27f1d88",
   "metadata": {},
   "outputs": [],
   "source": [
    "# Since p-alue is inside the confidence region, we can not reject the null hypothesis.\n",
    "# There is no effect of reengineering on incidence behavioral problems."
   ]
  },
  {
   "cell_type": "markdown",
   "id": "66626973",
   "metadata": {},
   "source": [
    "# b. effect of reengineering on Staff turn over"
   ]
  },
  {
   "cell_type": "code",
   "execution_count": 45,
   "id": "86e5da4d",
   "metadata": {},
   "outputs": [],
   "source": [
    "prior_turnover=treatment_facility[treatment_facility.Reengineer=='Prior']['Employee_Turnover']\n",
    "post_turnover=treatment_facility[treatment_facility.Reengineer=='Post']['Employee_Turnover']"
   ]
  },
  {
   "cell_type": "code",
   "execution_count": 46,
   "id": "0c42a24b",
   "metadata": {},
   "outputs": [],
   "source": [
    "# Ho:- There is no effect\n",
    "# Ha:- There is effect of reengineering on staff turnover\n",
    "\n",
    "# confidence: 95%\n",
    "\n",
    "# significance: 5%"
   ]
  },
  {
   "cell_type": "code",
   "execution_count": 47,
   "id": "85e22ef1",
   "metadata": {},
   "outputs": [
    {
     "data": {
      "text/plain": [
       "TtestResult(statistic=-1.770306704753604, pvalue=0.09361109345535304, df=18.0)"
      ]
     },
     "execution_count": 47,
     "metadata": {},
     "output_type": "execute_result"
    }
   ],
   "source": [
    "stats.ttest_ind(prior_turnover, post_turnover)"
   ]
  },
  {
   "cell_type": "code",
   "execution_count": 48,
   "id": "1e06951e",
   "metadata": {},
   "outputs": [],
   "source": [
    "# Since p-value is inside the confidence region, we can not reject the null hypothesis.\n",
    "# therefore, there is no effect of reengineering on the staff turnover."
   ]
  },
  {
   "cell_type": "markdown",
   "id": "fe4c27c7",
   "metadata": {},
   "source": [
    "# Business Problem - 4"
   ]
  },
  {
   "cell_type": "code",
   "execution_count": 49,
   "id": "e4c2dd6a",
   "metadata": {},
   "outputs": [],
   "source": [
    "priority=pd.read_csv('C:/Users/Ajay/Downloads/Python Case Studies/4. Basic Statistics - Hypothesis Testing/Priority_Assessment.csv')"
   ]
  },
  {
   "cell_type": "code",
   "execution_count": 50,
   "id": "ce361306",
   "metadata": {},
   "outputs": [
    {
     "data": {
      "text/html": [
       "<div>\n",
       "<style scoped>\n",
       "    .dataframe tbody tr th:only-of-type {\n",
       "        vertical-align: middle;\n",
       "    }\n",
       "\n",
       "    .dataframe tbody tr th {\n",
       "        vertical-align: top;\n",
       "    }\n",
       "\n",
       "    .dataframe thead th {\n",
       "        text-align: right;\n",
       "    }\n",
       "</style>\n",
       "<table border=\"1\" class=\"dataframe\">\n",
       "  <thead>\n",
       "    <tr style=\"text-align: right;\">\n",
       "      <th></th>\n",
       "      <th>Days</th>\n",
       "      <th>Priority</th>\n",
       "    </tr>\n",
       "  </thead>\n",
       "  <tbody>\n",
       "    <tr>\n",
       "      <th>0</th>\n",
       "      <td>3.3</td>\n",
       "      <td>High</td>\n",
       "    </tr>\n",
       "    <tr>\n",
       "      <th>1</th>\n",
       "      <td>7.9</td>\n",
       "      <td>Medium</td>\n",
       "    </tr>\n",
       "    <tr>\n",
       "      <th>2</th>\n",
       "      <td>0.3</td>\n",
       "      <td>High</td>\n",
       "    </tr>\n",
       "    <tr>\n",
       "      <th>3</th>\n",
       "      <td>0.7</td>\n",
       "      <td>Medium</td>\n",
       "    </tr>\n",
       "    <tr>\n",
       "      <th>4</th>\n",
       "      <td>8.6</td>\n",
       "      <td>Medium</td>\n",
       "    </tr>\n",
       "  </tbody>\n",
       "</table>\n",
       "</div>"
      ],
      "text/plain": [
       "   Days Priority\n",
       "0   3.3     High\n",
       "1   7.9   Medium\n",
       "2   0.3     High\n",
       "3   0.7   Medium\n",
       "4   8.6   Medium"
      ]
     },
     "execution_count": 50,
     "metadata": {},
     "output_type": "execute_result"
    }
   ],
   "source": [
    "priority.head()"
   ]
  },
  {
   "cell_type": "code",
   "execution_count": 51,
   "id": "60e6d496",
   "metadata": {},
   "outputs": [
    {
     "data": {
      "text/plain": [
       "Days        0\n",
       "Priority    0\n",
       "dtype: int64"
      ]
     },
     "execution_count": 51,
     "metadata": {},
     "output_type": "execute_result"
    }
   ],
   "source": [
    "priority.isna().sum()"
   ]
  },
  {
   "cell_type": "code",
   "execution_count": 52,
   "id": "6cfb9eb8",
   "metadata": {},
   "outputs": [
    {
     "data": {
      "text/plain": [
       "Priority\n",
       "High      326\n",
       "Low        67\n",
       "Medium    249\n",
       "Name: Days, dtype: int64"
      ]
     },
     "execution_count": 52,
     "metadata": {},
     "output_type": "execute_result"
    }
   ],
   "source": [
    "priority.groupby('Priority').Days.count()"
   ]
  },
  {
   "cell_type": "code",
   "execution_count": 53,
   "id": "61060c73",
   "metadata": {},
   "outputs": [],
   "source": [
    "# Since there are more thn 2 groups, we will use f-oneway|ANOVA method\n",
    "High=priority[priority.Priority=='High'].Days\n",
    "Medium= priority[priority.Priority=='Medium'].Days\n",
    "Low= priority[priority.Priority=='Low'].Days"
   ]
  },
  {
   "cell_type": "code",
   "execution_count": 54,
   "id": "c80e11a8",
   "metadata": {},
   "outputs": [],
   "source": [
    "# Defining the hypothesis\n",
    "# Ho: Prioritzation system is not working\n",
    "# Ha: Prioritization system is working\n",
    "\n",
    "# confidence:  95%\n",
    "# significance: 5%\n",
    "\n",
    "# Method used: F-test|ANOVA"
   ]
  },
  {
   "cell_type": "code",
   "execution_count": 55,
   "id": "4dc9ce33",
   "metadata": {},
   "outputs": [
    {
     "data": {
      "text/plain": [
       "F_onewayResult(statistic=1.812311010076072, pvalue=0.16411459461716182)"
      ]
     },
     "execution_count": 55,
     "metadata": {},
     "output_type": "execute_result"
    }
   ],
   "source": [
    "stats.f_oneway(High, Medium, Low)"
   ]
  },
  {
   "cell_type": "code",
   "execution_count": 56,
   "id": "5a97d5d2",
   "metadata": {},
   "outputs": [],
   "source": [
    "# Since p-value is inside the confidence region, we accept the null hypothesis.\n",
    "# Therefore, the new prioritization system is not working."
   ]
  },
  {
   "cell_type": "markdown",
   "id": "e747be29",
   "metadata": {},
   "source": [
    "# Business Problem - 5"
   ]
  },
  {
   "cell_type": "code",
   "execution_count": 57,
   "id": "175a7b78",
   "metadata": {},
   "outputs": [],
   "source": [
    "Films=pd.read_csv('C:/Users/Ajay/Downloads/Python Case Studies/4. Basic Statistics - Hypothesis Testing/Films.csv')"
   ]
  },
  {
   "cell_type": "code",
   "execution_count": 58,
   "id": "bc7bc018",
   "metadata": {},
   "outputs": [
    {
     "data": {
      "text/html": [
       "<div>\n",
       "<style scoped>\n",
       "    .dataframe tbody tr th:only-of-type {\n",
       "        vertical-align: middle;\n",
       "    }\n",
       "\n",
       "    .dataframe tbody tr th {\n",
       "        vertical-align: top;\n",
       "    }\n",
       "\n",
       "    .dataframe thead th {\n",
       "        text-align: right;\n",
       "    }\n",
       "</style>\n",
       "<table border=\"1\" class=\"dataframe\">\n",
       "  <thead>\n",
       "    <tr style=\"text-align: right;\">\n",
       "      <th></th>\n",
       "      <th>_rowstate_</th>\n",
       "      <th>Movie</th>\n",
       "      <th>Gender</th>\n",
       "      <th>Marital_Status</th>\n",
       "      <th>Sinage</th>\n",
       "      <th>Parking</th>\n",
       "      <th>Clean</th>\n",
       "      <th>Overall</th>\n",
       "      <th>Age</th>\n",
       "      <th>Income</th>\n",
       "      <th>Hear_About</th>\n",
       "    </tr>\n",
       "  </thead>\n",
       "  <tbody>\n",
       "    <tr>\n",
       "      <th>0</th>\n",
       "      <td>0</td>\n",
       "      <td>Ferris Buellers Day Off</td>\n",
       "      <td>Female</td>\n",
       "      <td>Married</td>\n",
       "      <td>2.0</td>\n",
       "      <td>2.0</td>\n",
       "      <td>2.0</td>\n",
       "      <td>2.0</td>\n",
       "      <td>3.0</td>\n",
       "      <td>1.0</td>\n",
       "      <td>5</td>\n",
       "    </tr>\n",
       "    <tr>\n",
       "      <th>1</th>\n",
       "      <td>0</td>\n",
       "      <td>Ferris Buellers Day Off</td>\n",
       "      <td>Female</td>\n",
       "      <td>Single</td>\n",
       "      <td>1.0</td>\n",
       "      <td>1.0</td>\n",
       "      <td>1.0</td>\n",
       "      <td>1.0</td>\n",
       "      <td>2.0</td>\n",
       "      <td>1.0</td>\n",
       "      <td>5</td>\n",
       "    </tr>\n",
       "    <tr>\n",
       "      <th>2</th>\n",
       "      <td>0</td>\n",
       "      <td>Ferris Buellers Day Off</td>\n",
       "      <td>Male</td>\n",
       "      <td>Married</td>\n",
       "      <td>2.0</td>\n",
       "      <td>4.0</td>\n",
       "      <td>3.0</td>\n",
       "      <td>2.0</td>\n",
       "      <td>4.0</td>\n",
       "      <td>1.0</td>\n",
       "      <td>5</td>\n",
       "    </tr>\n",
       "    <tr>\n",
       "      <th>3</th>\n",
       "      <td>0</td>\n",
       "      <td>Ferris Buellers Day Off</td>\n",
       "      <td>Female</td>\n",
       "      <td>Married</td>\n",
       "      <td>1.0</td>\n",
       "      <td>3.0</td>\n",
       "      <td>2.0</td>\n",
       "      <td>2.0</td>\n",
       "      <td>4.0</td>\n",
       "      <td>1.0</td>\n",
       "      <td>5</td>\n",
       "    </tr>\n",
       "    <tr>\n",
       "      <th>4</th>\n",
       "      <td>0</td>\n",
       "      <td>Ferris Buellers Day Off</td>\n",
       "      <td>Female</td>\n",
       "      <td>Married</td>\n",
       "      <td>1.0</td>\n",
       "      <td>1.0</td>\n",
       "      <td>1.0</td>\n",
       "      <td>1.0</td>\n",
       "      <td>3.0</td>\n",
       "      <td>3.0</td>\n",
       "      <td>1</td>\n",
       "    </tr>\n",
       "    <tr>\n",
       "      <th>5</th>\n",
       "      <td>0</td>\n",
       "      <td>Ferris Buellers Day Off</td>\n",
       "      <td>Female</td>\n",
       "      <td>Married</td>\n",
       "      <td>1.0</td>\n",
       "      <td>1.0</td>\n",
       "      <td>1.0</td>\n",
       "      <td>1.0</td>\n",
       "      <td>3.0</td>\n",
       "      <td>3.0</td>\n",
       "      <td>5</td>\n",
       "    </tr>\n",
       "    <tr>\n",
       "      <th>6</th>\n",
       "      <td>0</td>\n",
       "      <td>Ferris Buellers Day Off</td>\n",
       "      <td>Male</td>\n",
       "      <td>Married</td>\n",
       "      <td>2.0</td>\n",
       "      <td>2.0</td>\n",
       "      <td>2.0</td>\n",
       "      <td>2.0</td>\n",
       "      <td>3.0</td>\n",
       "      <td>3.0</td>\n",
       "      <td>5</td>\n",
       "    </tr>\n",
       "    <tr>\n",
       "      <th>7</th>\n",
       "      <td>0</td>\n",
       "      <td>Ferris Buellers Day Off</td>\n",
       "      <td>Female</td>\n",
       "      <td>Single</td>\n",
       "      <td>1.0</td>\n",
       "      <td>1.0</td>\n",
       "      <td>3.0</td>\n",
       "      <td>1.0</td>\n",
       "      <td>3.0</td>\n",
       "      <td>NaN</td>\n",
       "      <td>4</td>\n",
       "    </tr>\n",
       "    <tr>\n",
       "      <th>8</th>\n",
       "      <td>0</td>\n",
       "      <td>Ferris Buellers Day Off</td>\n",
       "      <td>Female</td>\n",
       "      <td>Single</td>\n",
       "      <td>1.0</td>\n",
       "      <td>1.0</td>\n",
       "      <td>3.0</td>\n",
       "      <td>1.0</td>\n",
       "      <td>3.0</td>\n",
       "      <td>NaN</td>\n",
       "      <td>4</td>\n",
       "    </tr>\n",
       "    <tr>\n",
       "      <th>9</th>\n",
       "      <td>0</td>\n",
       "      <td>Ferris Buellers Day Off</td>\n",
       "      <td>Female</td>\n",
       "      <td>Single</td>\n",
       "      <td>2.0</td>\n",
       "      <td>3.0</td>\n",
       "      <td>2.0</td>\n",
       "      <td>2.0</td>\n",
       "      <td>3.0</td>\n",
       "      <td>1.0</td>\n",
       "      <td>4</td>\n",
       "    </tr>\n",
       "    <tr>\n",
       "      <th>10</th>\n",
       "      <td>0</td>\n",
       "      <td>Ferris Buellers Day Off</td>\n",
       "      <td>Male</td>\n",
       "      <td>Married</td>\n",
       "      <td>2.0</td>\n",
       "      <td>2.0</td>\n",
       "      <td>2.0</td>\n",
       "      <td>2.0</td>\n",
       "      <td>4.0</td>\n",
       "      <td>1.0</td>\n",
       "      <td>1</td>\n",
       "    </tr>\n",
       "    <tr>\n",
       "      <th>11</th>\n",
       "      <td>0</td>\n",
       "      <td>Ferris Buellers Day Off</td>\n",
       "      <td>Female</td>\n",
       "      <td>Married</td>\n",
       "      <td>2.0</td>\n",
       "      <td>2.0</td>\n",
       "      <td>2.0</td>\n",
       "      <td>2.0</td>\n",
       "      <td>4.0</td>\n",
       "      <td>NaN</td>\n",
       "      <td>5</td>\n",
       "    </tr>\n",
       "    <tr>\n",
       "      <th>12</th>\n",
       "      <td>0</td>\n",
       "      <td>Ferris Buellers Day Off</td>\n",
       "      <td>Female</td>\n",
       "      <td>Single</td>\n",
       "      <td>1.0</td>\n",
       "      <td>1.0</td>\n",
       "      <td>1.0</td>\n",
       "      <td>1.0</td>\n",
       "      <td>3.0</td>\n",
       "      <td>1.0</td>\n",
       "      <td>1</td>\n",
       "    </tr>\n",
       "    <tr>\n",
       "      <th>13</th>\n",
       "      <td>0</td>\n",
       "      <td>Ferris Buellers Day Off</td>\n",
       "      <td>Male</td>\n",
       "      <td>Single</td>\n",
       "      <td>3.0</td>\n",
       "      <td>4.0</td>\n",
       "      <td>2.0</td>\n",
       "      <td>5.0</td>\n",
       "      <td>2.0</td>\n",
       "      <td>2.0</td>\n",
       "      <td>5</td>\n",
       "    </tr>\n",
       "    <tr>\n",
       "      <th>14</th>\n",
       "      <td>0</td>\n",
       "      <td>Ferris Buellers Day Off</td>\n",
       "      <td>Male</td>\n",
       "      <td>Single</td>\n",
       "      <td>1.0</td>\n",
       "      <td>1.0</td>\n",
       "      <td>1.0</td>\n",
       "      <td>1.0</td>\n",
       "      <td>2.0</td>\n",
       "      <td>1.0</td>\n",
       "      <td>5</td>\n",
       "    </tr>\n",
       "    <tr>\n",
       "      <th>15</th>\n",
       "      <td>0</td>\n",
       "      <td>Ferris Buellers Day Off</td>\n",
       "      <td>Female</td>\n",
       "      <td>Slngle</td>\n",
       "      <td>1.0</td>\n",
       "      <td>2.0</td>\n",
       "      <td>1.0</td>\n",
       "      <td>1.0</td>\n",
       "      <td>2.0</td>\n",
       "      <td>2.0</td>\n",
       "      <td>4</td>\n",
       "    </tr>\n",
       "    <tr>\n",
       "      <th>16</th>\n",
       "      <td>0</td>\n",
       "      <td>Ferris Buellers Day Off</td>\n",
       "      <td>Male</td>\n",
       "      <td>Single</td>\n",
       "      <td>2.0</td>\n",
       "      <td>2.0</td>\n",
       "      <td>2.0</td>\n",
       "      <td>2.0</td>\n",
       "      <td>2.0</td>\n",
       "      <td>1.0</td>\n",
       "      <td>5</td>\n",
       "    </tr>\n",
       "    <tr>\n",
       "      <th>17</th>\n",
       "      <td>0</td>\n",
       "      <td>Ferris Buellers Day Off</td>\n",
       "      <td>Male</td>\n",
       "      <td>Single</td>\n",
       "      <td>2.0</td>\n",
       "      <td>1.0</td>\n",
       "      <td>1.0</td>\n",
       "      <td>3.0</td>\n",
       "      <td>2.0</td>\n",
       "      <td>3.0</td>\n",
       "      <td>5</td>\n",
       "    </tr>\n",
       "    <tr>\n",
       "      <th>18</th>\n",
       "      <td>0</td>\n",
       "      <td>Ferris Buellers Day Off</td>\n",
       "      <td>Female</td>\n",
       "      <td>Slngle</td>\n",
       "      <td>1.0</td>\n",
       "      <td>2.0</td>\n",
       "      <td>1.0</td>\n",
       "      <td>2.0</td>\n",
       "      <td>2.0</td>\n",
       "      <td>3.0</td>\n",
       "      <td>5</td>\n",
       "    </tr>\n",
       "    <tr>\n",
       "      <th>19</th>\n",
       "      <td>0</td>\n",
       "      <td>Ferris Buellers Day Off</td>\n",
       "      <td>Female</td>\n",
       "      <td>Single</td>\n",
       "      <td>3.0</td>\n",
       "      <td>2.0</td>\n",
       "      <td>3.0</td>\n",
       "      <td>1.0</td>\n",
       "      <td>1.0</td>\n",
       "      <td>3.0</td>\n",
       "      <td>5</td>\n",
       "    </tr>\n",
       "    <tr>\n",
       "      <th>20</th>\n",
       "      <td>0</td>\n",
       "      <td>Ferris Buellers Day Off</td>\n",
       "      <td>Male</td>\n",
       "      <td>Single</td>\n",
       "      <td>2.0</td>\n",
       "      <td>2.0</td>\n",
       "      <td>2.0</td>\n",
       "      <td>2.0</td>\n",
       "      <td>2.0</td>\n",
       "      <td>3.0</td>\n",
       "      <td>1</td>\n",
       "    </tr>\n",
       "    <tr>\n",
       "      <th>21</th>\n",
       "      <td>0</td>\n",
       "      <td>Ferris Buellers Day Off</td>\n",
       "      <td>Female</td>\n",
       "      <td>Single</td>\n",
       "      <td>2.0</td>\n",
       "      <td>2.0</td>\n",
       "      <td>2.0</td>\n",
       "      <td>2.0</td>\n",
       "      <td>2.0</td>\n",
       "      <td>3.0</td>\n",
       "      <td>1</td>\n",
       "    </tr>\n",
       "    <tr>\n",
       "      <th>22</th>\n",
       "      <td>0</td>\n",
       "      <td>Ferris Buellers Day Off</td>\n",
       "      <td>Male</td>\n",
       "      <td>Married</td>\n",
       "      <td>1.0</td>\n",
       "      <td>1.0</td>\n",
       "      <td>1.0</td>\n",
       "      <td>1.0</td>\n",
       "      <td>3.0</td>\n",
       "      <td>3.0</td>\n",
       "      <td>5</td>\n",
       "    </tr>\n",
       "    <tr>\n",
       "      <th>23</th>\n",
       "      <td>0</td>\n",
       "      <td>Ferris Buellers Day Off</td>\n",
       "      <td>Female</td>\n",
       "      <td>Single</td>\n",
       "      <td>1.0</td>\n",
       "      <td>1.0</td>\n",
       "      <td>1.0</td>\n",
       "      <td>1.0</td>\n",
       "      <td>2.0</td>\n",
       "      <td>1.0</td>\n",
       "      <td>2</td>\n",
       "    </tr>\n",
       "    <tr>\n",
       "      <th>24</th>\n",
       "      <td>0</td>\n",
       "      <td>Ferris Buellers Day Off</td>\n",
       "      <td>Female</td>\n",
       "      <td>Single</td>\n",
       "      <td>1.0</td>\n",
       "      <td>1.0</td>\n",
       "      <td>1.0</td>\n",
       "      <td>1.0</td>\n",
       "      <td>2.0</td>\n",
       "      <td>1.0</td>\n",
       "      <td>5</td>\n",
       "    </tr>\n",
       "    <tr>\n",
       "      <th>25</th>\n",
       "      <td>0</td>\n",
       "      <td>Ferris Buellers Day Off</td>\n",
       "      <td>Male</td>\n",
       "      <td>Single</td>\n",
       "      <td>2.0</td>\n",
       "      <td>2.0</td>\n",
       "      <td>2.0</td>\n",
       "      <td>2.0</td>\n",
       "      <td>2.0</td>\n",
       "      <td>3.0</td>\n",
       "      <td>3</td>\n",
       "    </tr>\n",
       "    <tr>\n",
       "      <th>26</th>\n",
       "      <td>0</td>\n",
       "      <td>Ferris Buellers Day Off</td>\n",
       "      <td>Male</td>\n",
       "      <td>Single</td>\n",
       "      <td>2.0</td>\n",
       "      <td>2.0</td>\n",
       "      <td>2.0</td>\n",
       "      <td>2.0</td>\n",
       "      <td>2.0</td>\n",
       "      <td>3.0</td>\n",
       "      <td>3</td>\n",
       "    </tr>\n",
       "    <tr>\n",
       "      <th>27</th>\n",
       "      <td>0</td>\n",
       "      <td>Ferris Buellers Day Off</td>\n",
       "      <td>Female</td>\n",
       "      <td>Single</td>\n",
       "      <td>1.0</td>\n",
       "      <td>1.0</td>\n",
       "      <td>1.0</td>\n",
       "      <td>1.0</td>\n",
       "      <td>4.0</td>\n",
       "      <td>1.0</td>\n",
       "      <td>4</td>\n",
       "    </tr>\n",
       "    <tr>\n",
       "      <th>28</th>\n",
       "      <td>0</td>\n",
       "      <td>Ferris Buellers Day Off</td>\n",
       "      <td>Female</td>\n",
       "      <td>Single</td>\n",
       "      <td>1.0</td>\n",
       "      <td>1.0</td>\n",
       "      <td>1.0</td>\n",
       "      <td>1.0</td>\n",
       "      <td>3.0</td>\n",
       "      <td>1.0</td>\n",
       "      <td>4,5</td>\n",
       "    </tr>\n",
       "    <tr>\n",
       "      <th>29</th>\n",
       "      <td>0</td>\n",
       "      <td>Ferris Buellers Day Off</td>\n",
       "      <td>Male</td>\n",
       "      <td>Married</td>\n",
       "      <td>2.0</td>\n",
       "      <td>3.0</td>\n",
       "      <td>2.0</td>\n",
       "      <td>2.0</td>\n",
       "      <td>3.0</td>\n",
       "      <td>3.0</td>\n",
       "      <td>2,5</td>\n",
       "    </tr>\n",
       "  </tbody>\n",
       "</table>\n",
       "</div>"
      ],
      "text/plain": [
       "    _rowstate_                    Movie  Gender Marital_Status  Sinage  \\\n",
       "0            0  Ferris Buellers Day Off  Female        Married     2.0   \n",
       "1            0  Ferris Buellers Day Off  Female         Single     1.0   \n",
       "2            0  Ferris Buellers Day Off    Male        Married     2.0   \n",
       "3            0  Ferris Buellers Day Off  Female        Married     1.0   \n",
       "4            0  Ferris Buellers Day Off  Female        Married     1.0   \n",
       "5            0  Ferris Buellers Day Off  Female        Married     1.0   \n",
       "6            0  Ferris Buellers Day Off    Male        Married     2.0   \n",
       "7            0  Ferris Buellers Day Off  Female         Single     1.0   \n",
       "8            0  Ferris Buellers Day Off  Female         Single     1.0   \n",
       "9            0  Ferris Buellers Day Off  Female         Single     2.0   \n",
       "10           0  Ferris Buellers Day Off    Male        Married     2.0   \n",
       "11           0  Ferris Buellers Day Off  Female        Married     2.0   \n",
       "12           0  Ferris Buellers Day Off  Female         Single     1.0   \n",
       "13           0  Ferris Buellers Day Off    Male         Single     3.0   \n",
       "14           0  Ferris Buellers Day Off    Male         Single     1.0   \n",
       "15           0  Ferris Buellers Day Off  Female         Slngle     1.0   \n",
       "16           0  Ferris Buellers Day Off    Male         Single     2.0   \n",
       "17           0  Ferris Buellers Day Off    Male         Single     2.0   \n",
       "18           0  Ferris Buellers Day Off  Female         Slngle     1.0   \n",
       "19           0  Ferris Buellers Day Off  Female         Single     3.0   \n",
       "20           0  Ferris Buellers Day Off    Male         Single     2.0   \n",
       "21           0  Ferris Buellers Day Off  Female         Single     2.0   \n",
       "22           0  Ferris Buellers Day Off    Male        Married     1.0   \n",
       "23           0  Ferris Buellers Day Off  Female         Single     1.0   \n",
       "24           0  Ferris Buellers Day Off  Female         Single     1.0   \n",
       "25           0  Ferris Buellers Day Off    Male         Single     2.0   \n",
       "26           0  Ferris Buellers Day Off    Male         Single     2.0   \n",
       "27           0  Ferris Buellers Day Off  Female         Single     1.0   \n",
       "28           0  Ferris Buellers Day Off  Female         Single     1.0   \n",
       "29           0  Ferris Buellers Day Off    Male        Married     2.0   \n",
       "\n",
       "    Parking  Clean  Overall  Age  Income Hear_About  \n",
       "0       2.0    2.0      2.0  3.0     1.0          5  \n",
       "1       1.0    1.0      1.0  2.0     1.0          5  \n",
       "2       4.0    3.0      2.0  4.0     1.0          5  \n",
       "3       3.0    2.0      2.0  4.0     1.0          5  \n",
       "4       1.0    1.0      1.0  3.0     3.0          1  \n",
       "5       1.0    1.0      1.0  3.0     3.0          5  \n",
       "6       2.0    2.0      2.0  3.0     3.0          5  \n",
       "7       1.0    3.0      1.0  3.0     NaN          4  \n",
       "8       1.0    3.0      1.0  3.0     NaN          4  \n",
       "9       3.0    2.0      2.0  3.0     1.0          4  \n",
       "10      2.0    2.0      2.0  4.0     1.0          1  \n",
       "11      2.0    2.0      2.0  4.0     NaN          5  \n",
       "12      1.0    1.0      1.0  3.0     1.0          1  \n",
       "13      4.0    2.0      5.0  2.0     2.0          5  \n",
       "14      1.0    1.0      1.0  2.0     1.0          5  \n",
       "15      2.0    1.0      1.0  2.0     2.0          4  \n",
       "16      2.0    2.0      2.0  2.0     1.0          5  \n",
       "17      1.0    1.0      3.0  2.0     3.0          5  \n",
       "18      2.0    1.0      2.0  2.0     3.0          5  \n",
       "19      2.0    3.0      1.0  1.0     3.0          5  \n",
       "20      2.0    2.0      2.0  2.0     3.0          1  \n",
       "21      2.0    2.0      2.0  2.0     3.0          1  \n",
       "22      1.0    1.0      1.0  3.0     3.0          5  \n",
       "23      1.0    1.0      1.0  2.0     1.0          2  \n",
       "24      1.0    1.0      1.0  2.0     1.0          5  \n",
       "25      2.0    2.0      2.0  2.0     3.0          3  \n",
       "26      2.0    2.0      2.0  2.0     3.0          3  \n",
       "27      1.0    1.0      1.0  4.0     1.0          4  \n",
       "28      1.0    1.0      1.0  3.0     1.0        4,5  \n",
       "29      3.0    2.0      2.0  3.0     3.0        2,5  "
      ]
     },
     "execution_count": 58,
     "metadata": {},
     "output_type": "execute_result"
    }
   ],
   "source": [
    "Films.head(30)"
   ]
  },
  {
   "cell_type": "code",
   "execution_count": 59,
   "id": "fbe2e3e8",
   "metadata": {},
   "outputs": [],
   "source": [
    "# Performing EDA\n",
    "# as from the data above, there is spelling mistake in marrital status. we will correct it\n",
    "\n",
    "Films.replace('Slngle','Single', inplace=True)\n"
   ]
  },
  {
   "cell_type": "code",
   "execution_count": 60,
   "id": "555eb921",
   "metadata": {},
   "outputs": [
    {
     "data": {
      "text/plain": [
       "Marital_Status\n",
       "1           88\n",
       "2          208\n",
       "Married     12\n",
       "Single      20\n",
       "Name: Gender, dtype: int64"
      ]
     },
     "execution_count": 60,
     "metadata": {},
     "output_type": "execute_result"
    }
   ],
   "source": [
    "Films.groupby('Marital_Status').Gender.count()"
   ]
  },
  {
   "cell_type": "code",
   "execution_count": 61,
   "id": "a98de3ed",
   "metadata": {},
   "outputs": [],
   "source": [
    "# Since we know the abbreviation used for marital_status from the information given:\n",
    "# 1: Married, 2: Single, we will replace it to avoid confusion\n",
    "\n",
    "Films.Marital_Status.replace({'1':'Married','2':'Single'}, inplace=True)\n",
    "\n",
    "# similarly for Gender column\n",
    "# 1: male, 2: Female\n",
    "\n",
    "Films.Gender.replace({'1':'Male','2':'Female'}, inplace=True)"
   ]
  },
  {
   "cell_type": "code",
   "execution_count": 62,
   "id": "02c9d15e",
   "metadata": {},
   "outputs": [
    {
     "data": {
      "text/plain": [
       "Marital_Status\n",
       "Married    100\n",
       "Single     228\n",
       "Name: Gender, dtype: int64"
      ]
     },
     "execution_count": 62,
     "metadata": {},
     "output_type": "execute_result"
    }
   ],
   "source": [
    "Films.groupby('Marital_Status').Gender.count()"
   ]
  },
  {
   "cell_type": "code",
   "execution_count": 63,
   "id": "cc77509b",
   "metadata": {},
   "outputs": [
    {
     "data": {
      "text/plain": [
       "Gender\n",
       "Female    213\n",
       "Male      117\n",
       "Name: Gender, dtype: int64"
      ]
     },
     "execution_count": 63,
     "metadata": {},
     "output_type": "execute_result"
    }
   ],
   "source": [
    "Films.groupby('Gender').Gender.count()"
   ]
  },
  {
   "cell_type": "code",
   "execution_count": 64,
   "id": "c075a114",
   "metadata": {},
   "outputs": [
    {
     "data": {
      "text/plain": [
       "51"
      ]
     },
     "execution_count": 64,
     "metadata": {},
     "output_type": "execute_result"
    }
   ],
   "source": [
    "# checking for duplicates\n",
    "Films.duplicated().sum()"
   ]
  },
  {
   "cell_type": "code",
   "execution_count": 65,
   "id": "aca3f4b9",
   "metadata": {},
   "outputs": [],
   "source": [
    "# Removing the duplicate values\n",
    "Films.drop_duplicates(inplace=True)"
   ]
  },
  {
   "cell_type": "code",
   "execution_count": 66,
   "id": "3ac03881",
   "metadata": {},
   "outputs": [
    {
     "data": {
      "text/plain": [
       "0"
      ]
     },
     "execution_count": 66,
     "metadata": {},
     "output_type": "execute_result"
    }
   ],
   "source": [
    "Films.duplicated().sum()"
   ]
  },
  {
   "cell_type": "markdown",
   "id": "ea4f4135",
   "metadata": {},
   "source": [
    "# BUSINESS PROBLEM: Use the survey resultsto addressthe following questions"
   ]
  },
  {
   "cell_type": "markdown",
   "id": "e66b08b3",
   "metadata": {},
   "source": [
    "# a. What is the overall level of customer satisfaction?"
   ]
  },
  {
   "cell_type": "code",
   "execution_count": 67,
   "id": "d469d70b",
   "metadata": {},
   "outputs": [],
   "source": [
    "over_all=Films.groupby('Overall').Overall.count()"
   ]
  },
  {
   "cell_type": "code",
   "execution_count": 68,
   "id": "db10704f",
   "metadata": {},
   "outputs": [
    {
     "data": {
      "text/plain": [
       "Overall\n",
       "1.0    128\n",
       "2.0    132\n",
       "3.0     12\n",
       "4.0      1\n",
       "5.0      4\n",
       "Name: Overall, dtype: int64"
      ]
     },
     "execution_count": 68,
     "metadata": {},
     "output_type": "execute_result"
    }
   ],
   "source": [
    "over_all"
   ]
  },
  {
   "cell_type": "code",
   "execution_count": 69,
   "id": "bda4661b",
   "metadata": {},
   "outputs": [
    {
     "data": {
      "text/plain": [
       "<Axes: xlabel='Overall'>"
      ]
     },
     "execution_count": 69,
     "metadata": {},
     "output_type": "execute_result"
    },
    {
     "data": {
      "image/png": "[encoded data removed]",
      "text/plain": [
       "<Figure size 640x480 with 1 Axes>"
      ]
     },
     "metadata": {},
     "output_type": "display_data"
    }
   ],
   "source": [
    "over_all.plot(kind='bar')"
   ]
  },
  {
   "cell_type": "markdown",
   "id": "bec366e1",
   "metadata": {},
   "source": [
    "Hence, the overall customer satisfaction is either 1: Excellent or 2: Good."
   ]
  },
  {
   "cell_type": "markdown",
   "id": "9aa05005",
   "metadata": {},
   "source": [
    "# b. What factors are linked to satisfaction?"
   ]
  },
  {
   "cell_type": "code",
   "execution_count": 70,
   "id": "5710a4d5",
   "metadata": {},
   "outputs": [],
   "source": [
    "# Since there are three factors that might have link with overall satisfaction, we will try one by one for each factor to \n",
    "#check it's relationship with overall satisfaction.\n",
    "\n",
    "# First, Overall with Sinage\n",
    "\n",
    "# Ho:- There is no relationship\n",
    "# Ha:- There is relationship\n",
    "\n",
    "# confidence level: 95%\n",
    "# significance: 5%\n",
    "\n",
    "# method to use: Chi2 test"
   ]
  },
  {
   "cell_type": "code",
   "execution_count": 71,
   "id": "1d3a0047",
   "metadata": {},
   "outputs": [],
   "source": [
    "observation1=pd.crosstab(Films.Overall, Films.Sinage)"
   ]
  },
  {
   "cell_type": "code",
   "execution_count": 72,
   "id": "c16dceff",
   "metadata": {},
   "outputs": [
    {
     "data": {
      "text/html": [
       "<div>\n",
       "<style scoped>\n",
       "    .dataframe tbody tr th:only-of-type {\n",
       "        vertical-align: middle;\n",
       "    }\n",
       "\n",
       "    .dataframe tbody tr th {\n",
       "        vertical-align: top;\n",
       "    }\n",
       "\n",
       "    .dataframe thead th {\n",
       "        text-align: right;\n",
       "    }\n",
       "</style>\n",
       "<table border=\"1\" class=\"dataframe\">\n",
       "  <thead>\n",
       "    <tr style=\"text-align: right;\">\n",
       "      <th>Sinage</th>\n",
       "      <th>1.0</th>\n",
       "      <th>2.0</th>\n",
       "      <th>3.0</th>\n",
       "      <th>4.0</th>\n",
       "      <th>5.0</th>\n",
       "    </tr>\n",
       "    <tr>\n",
       "      <th>Overall</th>\n",
       "      <th></th>\n",
       "      <th></th>\n",
       "      <th></th>\n",
       "      <th></th>\n",
       "      <th></th>\n",
       "    </tr>\n",
       "  </thead>\n",
       "  <tbody>\n",
       "    <tr>\n",
       "      <th>1.0</th>\n",
       "      <td>69</td>\n",
       "      <td>42</td>\n",
       "      <td>12</td>\n",
       "      <td>2</td>\n",
       "      <td>2</td>\n",
       "    </tr>\n",
       "    <tr>\n",
       "      <th>2.0</th>\n",
       "      <td>19</td>\n",
       "      <td>85</td>\n",
       "      <td>22</td>\n",
       "      <td>4</td>\n",
       "      <td>2</td>\n",
       "    </tr>\n",
       "    <tr>\n",
       "      <th>3.0</th>\n",
       "      <td>0</td>\n",
       "      <td>4</td>\n",
       "      <td>8</td>\n",
       "      <td>0</td>\n",
       "      <td>0</td>\n",
       "    </tr>\n",
       "    <tr>\n",
       "      <th>4.0</th>\n",
       "      <td>0</td>\n",
       "      <td>0</td>\n",
       "      <td>1</td>\n",
       "      <td>0</td>\n",
       "      <td>0</td>\n",
       "    </tr>\n",
       "    <tr>\n",
       "      <th>5.0</th>\n",
       "      <td>1</td>\n",
       "      <td>1</td>\n",
       "      <td>1</td>\n",
       "      <td>0</td>\n",
       "      <td>1</td>\n",
       "    </tr>\n",
       "  </tbody>\n",
       "</table>\n",
       "</div>"
      ],
      "text/plain": [
       "Sinage   1.0  2.0  3.0  4.0  5.0\n",
       "Overall                         \n",
       "1.0       69   42   12    2    2\n",
       "2.0       19   85   22    4    2\n",
       "3.0        0    4    8    0    0\n",
       "4.0        0    0    1    0    0\n",
       "5.0        1    1    1    0    1"
      ]
     },
     "execution_count": 72,
     "metadata": {},
     "output_type": "execute_result"
    }
   ],
   "source": [
    "observation1"
   ]
  },
  {
   "cell_type": "code",
   "execution_count": 73,
   "id": "10b4d9e0",
   "metadata": {},
   "outputs": [
    {
     "data": {
      "text/plain": [
       "Chi2ContingencyResult(statistic=91.95404780514889, pvalue=1.0905192443500657e-12, dof=16, expected_freq=array([[4.09528986e+01, 6.07391304e+01, 2.02463768e+01, 2.76086957e+00,\n",
       "        2.30072464e+00],\n",
       "       [4.25652174e+01, 6.31304348e+01, 2.10434783e+01, 2.86956522e+00,\n",
       "        2.39130435e+00],\n",
       "       [3.86956522e+00, 5.73913043e+00, 1.91304348e+00, 2.60869565e-01,\n",
       "        2.17391304e-01],\n",
       "       [3.22463768e-01, 4.78260870e-01, 1.59420290e-01, 2.17391304e-02,\n",
       "        1.81159420e-02],\n",
       "       [1.28985507e+00, 1.91304348e+00, 6.37681159e-01, 8.69565217e-02,\n",
       "        7.24637681e-02]]))"
      ]
     },
     "execution_count": 73,
     "metadata": {},
     "output_type": "execute_result"
    }
   ],
   "source": [
    "stats.chi2_contingency(observation1)"
   ]
  },
  {
   "cell_type": "code",
   "execution_count": 74,
   "id": "412d066f",
   "metadata": {},
   "outputs": [],
   "source": [
    "# Since p-value is outside the confidence region, we reject the null hypothesis.\n",
    "# Therefore, There is a relationship between overall and Sinage."
   ]
  },
  {
   "cell_type": "code",
   "execution_count": 75,
   "id": "30470b24",
   "metadata": {},
   "outputs": [],
   "source": [
    "# Now for second factor, Overall and Cleaning\n",
    "# Ho:- There is no relationship \n",
    "# Ha:- There is relationship\n",
    "\n",
    "# Confidence: 95%\n",
    "# Significance: 5%\n",
    "\n",
    "# method: chi2 test"
   ]
  },
  {
   "cell_type": "code",
   "execution_count": 76,
   "id": "f9902832",
   "metadata": {},
   "outputs": [],
   "source": [
    "observation2=pd.crosstab(Films.Overall, Films.Clean)"
   ]
  },
  {
   "cell_type": "code",
   "execution_count": 77,
   "id": "a0dfb9bc",
   "metadata": {},
   "outputs": [
    {
     "data": {
      "text/html": [
       "<div>\n",
       "<style scoped>\n",
       "    .dataframe tbody tr th:only-of-type {\n",
       "        vertical-align: middle;\n",
       "    }\n",
       "\n",
       "    .dataframe tbody tr th {\n",
       "        vertical-align: top;\n",
       "    }\n",
       "\n",
       "    .dataframe thead th {\n",
       "        text-align: right;\n",
       "    }\n",
       "</style>\n",
       "<table border=\"1\" class=\"dataframe\">\n",
       "  <thead>\n",
       "    <tr style=\"text-align: right;\">\n",
       "      <th>Clean</th>\n",
       "      <th>1.0</th>\n",
       "      <th>2.0</th>\n",
       "      <th>3.0</th>\n",
       "      <th>4.0</th>\n",
       "      <th>5.0</th>\n",
       "    </tr>\n",
       "    <tr>\n",
       "      <th>Overall</th>\n",
       "      <th></th>\n",
       "      <th></th>\n",
       "      <th></th>\n",
       "      <th></th>\n",
       "      <th></th>\n",
       "    </tr>\n",
       "  </thead>\n",
       "  <tbody>\n",
       "    <tr>\n",
       "      <th>1.0</th>\n",
       "      <td>82</td>\n",
       "      <td>39</td>\n",
       "      <td>5</td>\n",
       "      <td>1</td>\n",
       "      <td>1</td>\n",
       "    </tr>\n",
       "    <tr>\n",
       "      <th>2.0</th>\n",
       "      <td>32</td>\n",
       "      <td>82</td>\n",
       "      <td>14</td>\n",
       "      <td>3</td>\n",
       "      <td>0</td>\n",
       "    </tr>\n",
       "    <tr>\n",
       "      <th>3.0</th>\n",
       "      <td>3</td>\n",
       "      <td>5</td>\n",
       "      <td>4</td>\n",
       "      <td>0</td>\n",
       "      <td>0</td>\n",
       "    </tr>\n",
       "    <tr>\n",
       "      <th>4.0</th>\n",
       "      <td>0</td>\n",
       "      <td>1</td>\n",
       "      <td>0</td>\n",
       "      <td>0</td>\n",
       "      <td>0</td>\n",
       "    </tr>\n",
       "    <tr>\n",
       "      <th>5.0</th>\n",
       "      <td>2</td>\n",
       "      <td>1</td>\n",
       "      <td>0</td>\n",
       "      <td>0</td>\n",
       "      <td>1</td>\n",
       "    </tr>\n",
       "  </tbody>\n",
       "</table>\n",
       "</div>"
      ],
      "text/plain": [
       "Clean    1.0  2.0  3.0  4.0  5.0\n",
       "Overall                         \n",
       "1.0       82   39    5    1    1\n",
       "2.0       32   82   14    3    0\n",
       "3.0        3    5    4    0    0\n",
       "4.0        0    1    0    0    0\n",
       "5.0        2    1    0    0    1"
      ]
     },
     "execution_count": 77,
     "metadata": {},
     "output_type": "execute_result"
    }
   ],
   "source": [
    "observation2"
   ]
  },
  {
   "cell_type": "code",
   "execution_count": 78,
   "id": "a68634e8",
   "metadata": {},
   "outputs": [
    {
     "data": {
      "text/plain": [
       "Chi2ContingencyResult(statistic=88.6676504071631, pvalue=4.399087983774725e-12, dof=16, expected_freq=array([[5.51884058e+01, 5.93623188e+01, 1.06666667e+01, 1.85507246e+00,\n",
       "        9.27536232e-01],\n",
       "       [5.64818841e+01, 6.07536232e+01, 1.09166667e+01, 1.89855072e+00,\n",
       "        9.49275362e-01],\n",
       "       [5.17391304e+00, 5.56521739e+00, 1.00000000e+00, 1.73913043e-01,\n",
       "        8.69565217e-02],\n",
       "       [4.31159420e-01, 4.63768116e-01, 8.33333333e-02, 1.44927536e-02,\n",
       "        7.24637681e-03],\n",
       "       [1.72463768e+00, 1.85507246e+00, 3.33333333e-01, 5.79710145e-02,\n",
       "        2.89855072e-02]]))"
      ]
     },
     "execution_count": 78,
     "metadata": {},
     "output_type": "execute_result"
    }
   ],
   "source": [
    "stats.chi2_contingency(observation2)"
   ]
  },
  {
   "cell_type": "code",
   "execution_count": 79,
   "id": "f01a775b",
   "metadata": {},
   "outputs": [],
   "source": [
    "# Since p-value is outside the confidence region, we reject the null hypothesis\n",
    "# Therefore, there is a relationshi between clean and overall."
   ]
  },
  {
   "cell_type": "code",
   "execution_count": 80,
   "id": "8ffd0a2b",
   "metadata": {},
   "outputs": [],
   "source": [
    "# Now for the final factor, Overall and Parking\n",
    "# Ho:- There is no relationship\n",
    "# Ha:- There is relationship \n",
    "\n",
    "# confidence: 95%\n",
    "# significance: 5%\n",
    "\n",
    "# method: chi2 test"
   ]
  },
  {
   "cell_type": "code",
   "execution_count": 81,
   "id": "aaf5b09f",
   "metadata": {},
   "outputs": [],
   "source": [
    "observation3=pd.crosstab(Films.Overall, Films.Parking)"
   ]
  },
  {
   "cell_type": "code",
   "execution_count": 82,
   "id": "9cfff3b6",
   "metadata": {},
   "outputs": [
    {
     "data": {
      "text/plain": [
       "Chi2ContingencyResult(statistic=175.1310290555826, pvalue=7.950772886000052e-29, dof=16, expected_freq=array([[5.10144928e+01, 5.88985507e+01, 1.29855072e+01, 3.24637681e+00,\n",
       "        1.85507246e+00],\n",
       "       [5.22101449e+01, 6.02789855e+01, 1.32898551e+01, 3.32246377e+00,\n",
       "        1.89855072e+00],\n",
       "       [4.78260870e+00, 5.52173913e+00, 1.21739130e+00, 3.04347826e-01,\n",
       "        1.73913043e-01],\n",
       "       [3.98550725e-01, 4.60144928e-01, 1.01449275e-01, 2.53623188e-02,\n",
       "        1.44927536e-02],\n",
       "       [1.59420290e+00, 1.84057971e+00, 4.05797101e-01, 1.01449275e-01,\n",
       "        5.79710145e-02]]))"
      ]
     },
     "execution_count": 82,
     "metadata": {},
     "output_type": "execute_result"
    }
   ],
   "source": [
    "stats.chi2_contingency(observation3)"
   ]
  },
  {
   "cell_type": "code",
   "execution_count": 83,
   "id": "8ed99174",
   "metadata": {},
   "outputs": [],
   "source": [
    "# Since p-value is outside the confidence region, we reject the null hypothesis.\n",
    "# Therefore, there is a relationship between overall and parking."
   ]
  },
  {
   "cell_type": "markdown",
   "id": "65195e9e",
   "metadata": {},
   "source": [
    "# Therefore, all the 3 factors Sinage, Clean and Parking have a relationship with overall satisfaction."
   ]
  },
  {
   "cell_type": "markdown",
   "id": "34913a81",
   "metadata": {},
   "source": [
    "# c. What is the demographic profile of Film on the Rocks patrons?"
   ]
  },
  {
   "cell_type": "code",
   "execution_count": 84,
   "id": "a5dbdb50",
   "metadata": {},
   "outputs": [
    {
     "data": {
      "text/html": [
       "<div>\n",
       "<style scoped>\n",
       "    .dataframe tbody tr th:only-of-type {\n",
       "        vertical-align: middle;\n",
       "    }\n",
       "\n",
       "    .dataframe tbody tr th {\n",
       "        vertical-align: top;\n",
       "    }\n",
       "\n",
       "    .dataframe thead th {\n",
       "        text-align: right;\n",
       "    }\n",
       "</style>\n",
       "<table border=\"1\" class=\"dataframe\">\n",
       "  <thead>\n",
       "    <tr style=\"text-align: right;\">\n",
       "      <th></th>\n",
       "      <th>_rowstate_</th>\n",
       "      <th>Movie</th>\n",
       "      <th>Gender</th>\n",
       "      <th>Marital_Status</th>\n",
       "      <th>Sinage</th>\n",
       "      <th>Parking</th>\n",
       "      <th>Clean</th>\n",
       "      <th>Overall</th>\n",
       "      <th>Age</th>\n",
       "      <th>Income</th>\n",
       "      <th>Hear_About</th>\n",
       "    </tr>\n",
       "  </thead>\n",
       "  <tbody>\n",
       "    <tr>\n",
       "      <th>0</th>\n",
       "      <td>0</td>\n",
       "      <td>Ferris Buellers Day Off</td>\n",
       "      <td>Female</td>\n",
       "      <td>Married</td>\n",
       "      <td>2.0</td>\n",
       "      <td>2.0</td>\n",
       "      <td>2.0</td>\n",
       "      <td>2.0</td>\n",
       "      <td>3.0</td>\n",
       "      <td>1.0</td>\n",
       "      <td>5</td>\n",
       "    </tr>\n",
       "    <tr>\n",
       "      <th>1</th>\n",
       "      <td>0</td>\n",
       "      <td>Ferris Buellers Day Off</td>\n",
       "      <td>Female</td>\n",
       "      <td>Single</td>\n",
       "      <td>1.0</td>\n",
       "      <td>1.0</td>\n",
       "      <td>1.0</td>\n",
       "      <td>1.0</td>\n",
       "      <td>2.0</td>\n",
       "      <td>1.0</td>\n",
       "      <td>5</td>\n",
       "    </tr>\n",
       "    <tr>\n",
       "      <th>2</th>\n",
       "      <td>0</td>\n",
       "      <td>Ferris Buellers Day Off</td>\n",
       "      <td>Male</td>\n",
       "      <td>Married</td>\n",
       "      <td>2.0</td>\n",
       "      <td>4.0</td>\n",
       "      <td>3.0</td>\n",
       "      <td>2.0</td>\n",
       "      <td>4.0</td>\n",
       "      <td>1.0</td>\n",
       "      <td>5</td>\n",
       "    </tr>\n",
       "    <tr>\n",
       "      <th>3</th>\n",
       "      <td>0</td>\n",
       "      <td>Ferris Buellers Day Off</td>\n",
       "      <td>Female</td>\n",
       "      <td>Married</td>\n",
       "      <td>1.0</td>\n",
       "      <td>3.0</td>\n",
       "      <td>2.0</td>\n",
       "      <td>2.0</td>\n",
       "      <td>4.0</td>\n",
       "      <td>1.0</td>\n",
       "      <td>5</td>\n",
       "    </tr>\n",
       "    <tr>\n",
       "      <th>4</th>\n",
       "      <td>0</td>\n",
       "      <td>Ferris Buellers Day Off</td>\n",
       "      <td>Female</td>\n",
       "      <td>Married</td>\n",
       "      <td>1.0</td>\n",
       "      <td>1.0</td>\n",
       "      <td>1.0</td>\n",
       "      <td>1.0</td>\n",
       "      <td>3.0</td>\n",
       "      <td>3.0</td>\n",
       "      <td>1</td>\n",
       "    </tr>\n",
       "  </tbody>\n",
       "</table>\n",
       "</div>"
      ],
      "text/plain": [
       "   _rowstate_                    Movie  Gender Marital_Status  Sinage  \\\n",
       "0           0  Ferris Buellers Day Off  Female        Married     2.0   \n",
       "1           0  Ferris Buellers Day Off  Female         Single     1.0   \n",
       "2           0  Ferris Buellers Day Off    Male        Married     2.0   \n",
       "3           0  Ferris Buellers Day Off  Female        Married     1.0   \n",
       "4           0  Ferris Buellers Day Off  Female        Married     1.0   \n",
       "\n",
       "   Parking  Clean  Overall  Age  Income Hear_About  \n",
       "0      2.0    2.0      2.0  3.0     1.0          5  \n",
       "1      1.0    1.0      1.0  2.0     1.0          5  \n",
       "2      4.0    3.0      2.0  4.0     1.0          5  \n",
       "3      3.0    2.0      2.0  4.0     1.0          5  \n",
       "4      1.0    1.0      1.0  3.0     3.0          1  "
      ]
     },
     "execution_count": 84,
     "metadata": {},
     "output_type": "execute_result"
    }
   ],
   "source": [
    "Films.head()"
   ]
  },
  {
   "cell_type": "code",
   "execution_count": 87,
   "id": "784fca63",
   "metadata": {},
   "outputs": [
    {
     "data": {
      "text/plain": [
       "Gender\n",
       "Female    176\n",
       "Male      103\n",
       "Name: Gender, dtype: int64"
      ]
     },
     "execution_count": 87,
     "metadata": {},
     "output_type": "execute_result"
    }
   ],
   "source": [
    "# To check how may males and females are attendig the theatre to watch Film on the Rock patrons\n",
    "Films.groupby('Gender').Gender.count()"
   ]
  },
  {
   "cell_type": "code",
   "execution_count": 90,
   "id": "79c70308",
   "metadata": {},
   "outputs": [
    {
     "name": "stdout",
     "output_type": "stream",
     "text": [
      " percentage of males:36.92 % \n",
      "Percentage of Females: 63.08 %\n"
     ]
    }
   ],
   "source": [
    "# percentage of males and females atteded the theatre\n",
    "male_per=103*100/(103+176)\n",
    "female_per=176*100/(103+176)\n",
    "\n",
    "print(\" percentage of males:{} % \".format(round(male_per,2)))\n",
    "print(\"Percentage of Females: {} %\".format(round(female_per,2)))"
   ]
  },
  {
   "cell_type": "code",
   "execution_count": 91,
   "id": "0d7ba653",
   "metadata": {},
   "outputs": [
    {
     "data": {
      "text/plain": [
       "Marital_Status\n",
       "Married     88\n",
       "Single     189\n",
       "Name: Marital_Status, dtype: int64"
      ]
     },
     "execution_count": 91,
     "metadata": {},
     "output_type": "execute_result"
    }
   ],
   "source": [
    "# Now to check how many customers are Single and how many are married?\n",
    "Films.groupby('Marital_Status').Marital_Status.count()"
   ]
  },
  {
   "cell_type": "code",
   "execution_count": 92,
   "id": "9603d6f2",
   "metadata": {},
   "outputs": [
    {
     "data": {
      "text/plain": [
       "Income\n",
       "1.0    115\n",
       "2.0     74\n",
       "3.0     76\n",
       "Name: Income, dtype: int64"
      ]
     },
     "execution_count": 92,
     "metadata": {},
     "output_type": "execute_result"
    }
   ],
   "source": [
    "# Now to check what is the income slot of most of the customers who came to watch Film on the rock patrons?\n",
    "# 1: income less than $ 50,000\n",
    "# 2: income between $50,000 to $100,000\n",
    "# 3. income more than $ 100,000\n",
    "\n",
    "Films.groupby('Income').Income.count()"
   ]
  },
  {
   "cell_type": "code",
   "execution_count": 101,
   "id": "78f1324a",
   "metadata": {},
   "outputs": [],
   "source": [
    "# Now checking the age group of customers\n",
    "# 1: 1-12\n",
    "# 2: 13-30\n",
    "# 3: 31-60\n",
    "# 4: 60+\n",
    "\n",
    "age=Films.groupby('Age').Age.count()"
   ]
  },
  {
   "cell_type": "code",
   "execution_count": 100,
   "id": "bdf520e0",
   "metadata": {},
   "outputs": [
    {
     "data": {
      "text/plain": [
       "<Axes: xlabel='Age'>"
      ]
     },
     "execution_count": 100,
     "metadata": {},
     "output_type": "execute_result"
    },
    {
     "data": {
      "image/png": "[encoded data removed]",
      "text/plain": [
       "<Figure size 640x480 with 1 Axes>"
      ]
     },
     "metadata": {},
     "output_type": "display_data"
    }
   ],
   "source": [
    "age.plot(kind='bar')"
   ]
  },
  {
   "cell_type": "markdown",
   "id": "792c9506",
   "metadata": {},
   "source": [
    "# From above data, we can infer that:\n",
    "\n",
    "# 1. Female customers are more enthusiast about Film on Rock patrons.\n",
    "\n",
    "# 2. Most of the customers who watched Film on Rock patrons are Single.\n",
    "\n",
    "# 3. Most of the customers who came to watch Film on Rock patrons have income less than $50,000\n",
    "# 4. Most of the customers are amoung the Youth of age group 13-30."
   ]
  },
  {
   "cell_type": "markdown",
   "id": "08385ec4",
   "metadata": {},
   "source": [
    "--"
   ]
  },
  {
   "cell_type": "markdown",
   "id": "d29d9aa5",
   "metadata": {},
   "source": [
    "#  d. In what media outlet(s) should the film series be advertised?"
   ]
  },
  {
   "cell_type": "code",
   "execution_count": 93,
   "id": "60636b13",
   "metadata": {},
   "outputs": [
    {
     "data": {
      "text/plain": [
       "Hear_About\n",
       "1       22\n",
       "1,5      1\n",
       "2       12\n",
       "2,5      2\n",
       "3       12\n",
       "3,4      2\n",
       "3,5      1\n",
       "4       38\n",
       "4,5      1\n",
       "5      180\n",
       "5,4      1\n",
       "Name: Hear_About, dtype: int64"
      ]
     },
     "execution_count": 93,
     "metadata": {},
     "output_type": "execute_result"
    }
   ],
   "source": [
    "# Now to understand which media outlet is spreading more news about the Film on the rock patrons.\n",
    "\n",
    "Films.groupby('Hear_About').Hear_About.count()"
   ]
  },
  {
   "cell_type": "code",
   "execution_count": 94,
   "id": "d910922a",
   "metadata": {},
   "outputs": [],
   "source": [
    "# Since most of the 2 pair slot contain 5 as option, lets just change it to 5 instead.\n",
    "\n",
    "Films.replace({'1,5':'5','2,5':'5','3,5':'5','4,5':'5','3,4':'4','5,4':'5'}, inplace=True)"
   ]
  },
  {
   "cell_type": "code",
   "execution_count": 96,
   "id": "baed7b26",
   "metadata": {},
   "outputs": [],
   "source": [
    "Hear_about=Films.groupby('Hear_About').Hear_About.count()"
   ]
  },
  {
   "cell_type": "code",
   "execution_count": 105,
   "id": "68a575d5",
   "metadata": {},
   "outputs": [
    {
     "data": {
      "text/plain": [
       "<Axes: ylabel='Hear_About'>"
      ]
     },
     "execution_count": 105,
     "metadata": {},
     "output_type": "execute_result"
    },
    {
     "data": {
      "image/png": "[encoded data removed]",
      "text/plain": [
       "<Figure size 640x480 with 1 Axes>"
      ]
     },
     "metadata": {},
     "output_type": "display_data"
    }
   ],
   "source": [
    "Hear_about.plot(kind='barh')"
   ]
  },
  {
   "cell_type": "markdown",
   "id": "0aff5cfb",
   "metadata": {},
   "source": [
    "From above graph we can say that most of the customers who came to watch FIlm on Rock patrons heard about it through word of mouth."
   ]
  },
  {
   "cell_type": "markdown",
   "id": "d0e5357f",
   "metadata": {},
   "source": [
    "# Since most people heard about Film on Rock patrons through word of mouth but this is not a media outlet, therefore we will choose the second most used media oulet to advertise the film series:\n",
    "\n",
    "# Ans: Website\n",
    "\n",
    "# Use website to advertise film series on Rock patrons."
   ]
  },
  {
   "cell_type": "markdown",
   "id": "cebb12d6",
   "metadata": {},
   "source": [
    "# Thank you!"
   ]
  },
  {
   "cell_type": "code",
   "execution_count": null,
   "id": "216e5cb2",
   "metadata": {},
   "outputs": [],
   "source": []
  }
 ],
 "metadata": {
  "kernelspec": {
   "display_name": "Python 3 (ipykernel)",
   "language": "python",
   "name": "python3"
  },
  "language_info": {
   "codemirror_mode": {
    "name": "ipython",
    "version": 3
   },
   "file_extension": ".py",
   "mimetype": "text/x-python",
   "name": "python",
   "nbconvert_exporter": "python",
   "pygments_lexer": "ipython3",
   "version": "3.11.7"
  }
 },
 "nbformat": 4,
 "nbformat_minor": 5
}
